{
  "nbformat": 4,
  "nbformat_minor": 0,
  "metadata": {
    "colab": {
      "provenance": [],
      "authorship_tag": "ABX9TyNCOUMttKGELQLOVMQbYXyC",
      "include_colab_link": true
    },
    "kernelspec": {
      "name": "python3",
      "display_name": "Python 3"
    },
    "language_info": {
      "name": "python"
    }
  },
  "cells": [
    {
      "cell_type": "markdown",
      "metadata": {
        "id": "view-in-github",
        "colab_type": "text"
      },
      "source": [
        "<a href=\"https://colab.research.google.com/github/quantumseminar/textbook/blob/main/01libraries/libraries5_optimization.ipynb\" target=\"_parent\"><img src=\"https://colab.research.google.com/assets/colab-badge.svg\" alt=\"Open In Colab\"/></a>"
      ]
    },
    {
      "cell_type": "markdown",
      "source": [
        "## 最適化\n",
        "最適化は何かをよくすることで、最適解とは一番いい答えである。ここではある最適解の求め方をツールを使って学ぶ。\n",
        "\n",
        "今回はscipy（サイパイ）を利用し、その中のoptimize.minimizeのモジュールを利用する。\n",
        "\n",
        "最適化では関数を作って、その一番大きいもしくは小さい値を探す。今回はscipy.optimize.minimizeで一番小さい値を探すことを目的とする。\n",
        "\n",
        "np.arange()で、引数で配列を作ることができる。"
      ],
      "metadata": {
        "id": "XIfKh1WLishC"
      }
    },
    {
      "cell_type": "code",
      "execution_count": 28,
      "metadata": {
        "colab": {
          "base_uri": "https://localhost:8080/"
        },
        "id": "Up4xmpRdhTJb",
        "outputId": "d293a4f4-5fa9-4980-c377-bb4bc09193a1"
      },
      "outputs": [
        {
          "output_type": "execute_result",
          "data": {
            "text/plain": [
              "array([-5, -4, -3, -2, -1,  0,  1,  2,  3,  4])"
            ]
          },
          "metadata": {},
          "execution_count": 28
        }
      ],
      "source": [
        "import numpy as np\n",
        "\n",
        "x = np.arange(-5,5)\n",
        "x"
      ]
    },
    {
      "cell_type": "markdown",
      "source": [
        "適当な関数を考えてみる。xの2乗に3をかけて、xに5をかけたものを足す。"
      ],
      "metadata": {
        "id": "ewrQwNm8kGEu"
      }
    },
    {
      "cell_type": "code",
      "source": [
        "def f(x):\n",
        "  return x**2 + 5*x"
      ],
      "metadata": {
        "id": "9iJbVpSTjm5f"
      },
      "execution_count": 29,
      "outputs": []
    },
    {
      "cell_type": "markdown",
      "source": [
        "実際にxを代入してみると、"
      ],
      "metadata": {
        "id": "twWDhLJdkMDI"
      }
    },
    {
      "cell_type": "code",
      "source": [
        "f(x)"
      ],
      "metadata": {
        "colab": {
          "base_uri": "https://localhost:8080/"
        },
        "id": "IZGN14AfjqaD",
        "outputId": "b9ef4030-b003-48bd-a479-d7fe03ecf801"
      },
      "execution_count": 30,
      "outputs": [
        {
          "output_type": "execute_result",
          "data": {
            "text/plain": [
              "array([ 0, -4, -6, -6, -4,  0,  6, 14, 24, 36])"
            ]
          },
          "metadata": {},
          "execution_count": 30
        }
      ]
    },
    {
      "cell_type": "markdown",
      "source": [
        "-5から4まで代入された値が配列で出てきた。図示してみると、"
      ],
      "metadata": {
        "id": "XAT9cd5tkPwZ"
      }
    },
    {
      "cell_type": "code",
      "source": [
        "import matplotlib.pyplot as plt\n",
        "plt.plot(x , f(x))\n",
        "plt.show()"
      ],
      "metadata": {
        "colab": {
          "base_uri": "https://localhost:8080/",
          "height": 430
        },
        "id": "jwKpgs28juV_",
        "outputId": "b350118e-c70b-40e2-d81e-b480c25a384c"
      },
      "execution_count": 31,
      "outputs": [
        {
          "output_type": "display_data",
          "data": {
            "text/plain": [
              "<Figure size 640x480 with 1 Axes>"
            ],
            "image/png": "[encoded data removed]"
          },
          "metadata": {}
        }
      ]
    },
    {
      "cell_type": "markdown",
      "source": [
        "これの最小値をツールで探します。\n",
        "\n",
        "scipy.optimize.minimizeには最初の引数に関数を入れ、次の引数に探す一番最初の地点の値を入れます。\n"
      ],
      "metadata": {
        "id": "_PiDMKydkt9i"
      }
    },
    {
      "cell_type": "code",
      "source": [
        "import scipy\n",
        "result = scipy.optimize.minimize(f, 4)\n",
        "print(result)"
      ],
      "metadata": {
        "colab": {
          "base_uri": "https://localhost:8080/"
        },
        "id": "rpfXrPD6kcNg",
        "outputId": "a0e813fa-97c9-4738-a9e0-1197a9b072ed"
      },
      "execution_count": 35,
      "outputs": [
        {
          "output_type": "stream",
          "name": "stdout",
          "text": [
            "  message: Optimization terminated successfully.\n",
            "  success: True\n",
            "   status: 0\n",
            "      fun: -6.250000000000001\n",
            "        x: [-2.500e+00]\n",
            "      nit: 3\n",
            "      jac: [ 5.960e-08]\n",
            " hess_inv: [[ 5.000e-01]]\n",
            "     nfev: 8\n",
            "     njev: 4\n"
          ]
        }
      ]
    },
    {
      "cell_type": "markdown",
      "source": [
        "上記の答えは、x=-2.5の時、-6.25となりました。"
      ],
      "metadata": {
        "id": "p3o0-EQ0mU18"
      }
    },
    {
      "cell_type": "code",
      "source": [
        "f(-2.5)"
      ],
      "metadata": {
        "colab": {
          "base_uri": "https://localhost:8080/"
        },
        "id": "qGJ9hVG9lDDQ",
        "outputId": "3431e6f6-47c2-4ff1-ae37-7414475e2b8e"
      },
      "execution_count": 37,
      "outputs": [
        {
          "output_type": "execute_result",
          "data": {
            "text/plain": [
              "-6.25"
            ]
          },
          "metadata": {},
          "execution_count": 37
        }
      ]
    },
    {
      "cell_type": "markdown",
      "source": [
        "実際に図から見ても合っていそうです。内部では、アルゴリズムに合わせていろいろ探索をして、一番低い値を探しています。\n",
        "\n",
        "scipy optimize minimizeには初期値のアルゴリズムとしてアルゴリズムを選択しない場合、BFGSが適用されるようです。"
      ],
      "metadata": {
        "id": "AhaPdOKNmiER"
      }
    }
  ]
}