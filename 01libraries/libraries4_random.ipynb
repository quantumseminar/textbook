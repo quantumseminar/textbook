{
  "nbformat": 4,
  "nbformat_minor": 0,
  "metadata": {
    "colab": {
      "provenance": [],
      "authorship_tag": "ABX9TyOm0hYHxGCHDaNMgDXrV/R5",
      "include_colab_link": true
    },
    "kernelspec": {
      "name": "python3",
      "display_name": "Python 3"
    },
    "language_info": {
      "name": "python"
    }
  },
  "cells": [
    {
      "cell_type": "markdown",
      "metadata": {
        "id": "view-in-github",
        "colab_type": "text"
      },
      "source": [
        "<a href=\"https://colab.research.google.com/github/quantumseminar/textbook/blob/main/01libraries/libraries4_random.ipynb\" target=\"_parent\"><img src=\"https://colab.research.google.com/assets/colab-badge.svg\" alt=\"Open In Colab\"/></a>"
      ]
    },
    {
      "cell_type": "markdown",
      "source": [
        "## 乱数\n",
        "量子コンピュータや機械学習ではrandom numberをとてもよく利用する。全てツールで作れるので覚えておく。\n",
        "まずはrandomを使う場合、"
      ],
      "metadata": {
        "id": "BPotYOk6cmfG"
      }
    },
    {
      "cell_type": "code",
      "execution_count": 1,
      "metadata": {
        "id": "TyaWNiPYcGpQ"
      },
      "outputs": [],
      "source": [
        "import random"
      ]
    },
    {
      "cell_type": "code",
      "source": [
        "# Random float:  0.0 <= x < 1.0\n",
        "random.random()"
      ],
      "metadata": {
        "colab": {
          "base_uri": "https://localhost:8080/"
        },
        "id": "rnjNoAc_dFjG",
        "outputId": "d8eb6ec5-5b31-4301-f0e2-da03c0c930fd"
      },
      "execution_count": 3,
      "outputs": [
        {
          "output_type": "execute_result",
          "data": {
            "text/plain": [
              "0.48908526140627984"
            ]
          },
          "metadata": {},
          "execution_count": 3
        }
      ]
    },
    {
      "cell_type": "markdown",
      "source": [
        "続けて行うと、違う値が出る。"
      ],
      "metadata": {
        "id": "K9o8OSWXdNpv"
      }
    },
    {
      "cell_type": "code",
      "source": [
        "random.random()"
      ],
      "metadata": {
        "colab": {
          "base_uri": "https://localhost:8080/"
        },
        "outputId": "874dbd90-94d9-45c3-bb67-4613d21d7041",
        "id": "0_JP-fqXdLSQ"
      },
      "execution_count": 13,
      "outputs": [
        {
          "output_type": "execute_result",
          "data": {
            "text/plain": [
              "0.02096559877394022"
            ]
          },
          "metadata": {},
          "execution_count": 13
        }
      ]
    },
    {
      "cell_type": "markdown",
      "source": [
        "0と1の間じゃなくて、0と10の間とかにしたい場合、10倍する。"
      ],
      "metadata": {
        "id": "OwHyVeVMdlw3"
      }
    },
    {
      "cell_type": "code",
      "source": [
        "random.random()*10"
      ],
      "metadata": {
        "colab": {
          "base_uri": "https://localhost:8080/"
        },
        "id": "s23Zp-NLdr7U",
        "outputId": "95fb6359-f7f4-4403-aa08-5c4310e5cd21"
      },
      "execution_count": 12,
      "outputs": [
        {
          "output_type": "execute_result",
          "data": {
            "text/plain": [
              "4.8290015131452515"
            ]
          },
          "metadata": {},
          "execution_count": 12
        }
      ]
    },
    {
      "cell_type": "markdown",
      "source": [
        "範囲を指定する場合、"
      ],
      "metadata": {
        "id": "D1E3a7JRdZdR"
      }
    },
    {
      "cell_type": "code",
      "source": [
        "# Random float:  2.5 <= x <= 10.0\n",
        "random.uniform(2.5, 10.0)"
      ],
      "metadata": {
        "colab": {
          "base_uri": "https://localhost:8080/"
        },
        "id": "qS59WzbRdLYC",
        "outputId": "1a7b0872-52de-49e5-b47d-984a7e1e8e86"
      },
      "execution_count": 9,
      "outputs": [
        {
          "output_type": "execute_result",
          "data": {
            "text/plain": [
              "3.029362053011023"
            ]
          },
          "metadata": {},
          "execution_count": 9
        }
      ]
    },
    {
      "cell_type": "markdown",
      "source": [
        "値を出さずに、文字を選ぶ場合、"
      ],
      "metadata": {
        "id": "aNTE3n4cdfNb"
      }
    },
    {
      "cell_type": "code",
      "source": [
        "random.choice(['win', 'lose', 'draw'])"
      ],
      "metadata": {
        "colab": {
          "base_uri": "https://localhost:8080/",
          "height": 35
        },
        "id": "KFuIoKJOdWgq",
        "outputId": "22c0d720-6aa9-4131-ef51-37141cd2342c"
      },
      "execution_count": 11,
      "outputs": [
        {
          "output_type": "execute_result",
          "data": {
            "text/plain": [
              "'lose'"
            ],
            "application/vnd.google.colaboratory.intrinsic+json": {
              "type": "string"
            }
          },
          "metadata": {},
          "execution_count": 11
        }
      ]
    },
    {
      "cell_type": "markdown",
      "source": [
        "## numpyを利用する\n",
        "numpyを利用する方が一般的かも。"
      ],
      "metadata": {
        "id": "mEL1Iyled6hW"
      }
    },
    {
      "cell_type": "code",
      "source": [
        "import numpy as np"
      ],
      "metadata": {
        "id": "VSomsjvvdivq"
      },
      "execution_count": 14,
      "outputs": []
    },
    {
      "cell_type": "markdown",
      "source": [
        "0と1の間の乱数"
      ],
      "metadata": {
        "id": "XzOou8fXeX4P"
      }
    },
    {
      "cell_type": "code",
      "source": [
        "np.random.rand()"
      ],
      "metadata": {
        "colab": {
          "base_uri": "https://localhost:8080/"
        },
        "id": "YMF3TYHhePn8",
        "outputId": "4f66b0b2-c643-4de3-e3a3-cd8ca83369e0"
      },
      "execution_count": 16,
      "outputs": [
        {
          "output_type": "execute_result",
          "data": {
            "text/plain": [
              "0.5909911749929717"
            ]
          },
          "metadata": {},
          "execution_count": 16
        }
      ]
    },
    {
      "cell_type": "markdown",
      "source": [
        "配列を取り出す。下記は要素数が3個あるarrayとして乱数が作られます。"
      ],
      "metadata": {
        "id": "CUocs0z5eaUo"
      }
    },
    {
      "cell_type": "code",
      "source": [
        "np.random.rand(3)"
      ],
      "metadata": {
        "colab": {
          "base_uri": "https://localhost:8080/"
        },
        "id": "tIJM6GHPeRPd",
        "outputId": "5d35f1b1-d1b6-43ec-d999-3edf849656ff"
      },
      "execution_count": 19,
      "outputs": [
        {
          "output_type": "execute_result",
          "data": {
            "text/plain": [
              "array([0.39470251, 0.46142023, 0.34757127])"
            ]
          },
          "metadata": {},
          "execution_count": 19
        }
      ]
    },
    {
      "cell_type": "markdown",
      "source": [
        "配列を二次元にもできます"
      ],
      "metadata": {
        "id": "r9HA9Tz4evkc"
      }
    },
    {
      "cell_type": "code",
      "source": [
        "np.random.rand(2,2)"
      ],
      "metadata": {
        "colab": {
          "base_uri": "https://localhost:8080/"
        },
        "id": "O8r87j1jedFd",
        "outputId": "08a9abb3-4cd6-4675-b377-d7633db45ce3"
      },
      "execution_count": 21,
      "outputs": [
        {
          "output_type": "execute_result",
          "data": {
            "text/plain": [
              "array([[0.17282531, 0.38025328],\n",
              "       [0.19395582, 0.22214704]])"
            ]
          },
          "metadata": {},
          "execution_count": 21
        }
      ]
    },
    {
      "cell_type": "markdown",
      "source": [
        "小数じゃなくて整数が欲しい場合はrandint()\n",
        "引数が一つだと上限値"
      ],
      "metadata": {
        "id": "tS9RxR43fA4l"
      }
    },
    {
      "cell_type": "code",
      "source": [
        "np.random.randint(5)"
      ],
      "metadata": {
        "colab": {
          "base_uri": "https://localhost:8080/"
        },
        "id": "YvIXRLvze0hE",
        "outputId": "1ea57b74-916b-411d-83dc-18d5250366af"
      },
      "execution_count": 22,
      "outputs": [
        {
          "output_type": "execute_result",
          "data": {
            "text/plain": [
              "4"
            ]
          },
          "metadata": {},
          "execution_count": 22
        }
      ]
    },
    {
      "cell_type": "markdown",
      "source": [
        "引数二つで範囲を指定"
      ],
      "metadata": {
        "id": "jb4d0RfxfM-i"
      }
    },
    {
      "cell_type": "code",
      "source": [
        "np.random.randint(0,5)"
      ],
      "metadata": {
        "colab": {
          "base_uri": "https://localhost:8080/"
        },
        "id": "h--2VdHVfAGO",
        "outputId": "677122c1-5b4a-4639-e3fb-7f80ce45bb26"
      },
      "execution_count": 23,
      "outputs": [
        {
          "output_type": "execute_result",
          "data": {
            "text/plain": [
              "3"
            ]
          },
          "metadata": {},
          "execution_count": 23
        }
      ]
    },
    {
      "cell_type": "markdown",
      "source": [
        "引数の三つ目には配列などを指定できる。\n",
        "下は0から5の間の整数をランダムに要素数3の配列\n"
      ],
      "metadata": {
        "id": "iW3Bn0QufRai"
      }
    },
    {
      "cell_type": "code",
      "source": [
        "np.random.randint(0,5,[3])"
      ],
      "metadata": {
        "colab": {
          "base_uri": "https://localhost:8080/"
        },
        "id": "LHOpuj4RfPcB",
        "outputId": "03313b10-481c-4923-fba5-ee8995eacf24"
      },
      "execution_count": 26,
      "outputs": [
        {
          "output_type": "execute_result",
          "data": {
            "text/plain": [
              "array([2, 1, 2])"
            ]
          },
          "metadata": {},
          "execution_count": 26
        }
      ]
    },
    {
      "cell_type": "markdown",
      "source": [
        "## 乱数シード\n",
        "乱数はシードを決めると再現できる。いつもバラバラなものばかりだと答えが合ってるのかわからなくなることがあるため、シードを固定することがある。"
      ],
      "metadata": {
        "id": "j-aJp_-XflyR"
      }
    },
    {
      "cell_type": "code",
      "source": [
        "np.random.seed(1234)\n",
        "print(np.random.rand())\n",
        "print(np.random.rand())\n",
        "print(np.random.rand())\n",
        "print(np.random.rand())\n",
        "print(np.random.rand())"
      ],
      "metadata": {
        "colab": {
          "base_uri": "https://localhost:8080/"
        },
        "id": "E-A41h0rfUZH",
        "outputId": "4852f511-366e-4dac-a2d5-0b695bc50ca9"
      },
      "execution_count": 31,
      "outputs": [
        {
          "output_type": "stream",
          "name": "stdout",
          "text": [
            "0.1915194503788923\n",
            "0.6221087710398319\n",
            "0.4377277390071145\n",
            "0.7853585837137692\n",
            "0.7799758081188035\n"
          ]
        }
      ]
    },
    {
      "cell_type": "code",
      "source": [
        "np.random.seed(1234)\n",
        "print(np.random.rand())\n",
        "print(np.random.rand())\n",
        "print(np.random.rand())\n",
        "print(np.random.rand())\n",
        "print(np.random.rand())"
      ],
      "metadata": {
        "colab": {
          "base_uri": "https://localhost:8080/"
        },
        "id": "IhE4Fcgkf0pF",
        "outputId": "578d85b3-4369-46ca-f46e-4cc93a3ee9e8"
      },
      "execution_count": 33,
      "outputs": [
        {
          "output_type": "stream",
          "name": "stdout",
          "text": [
            "0.1915194503788923\n",
            "0.6221087710398319\n",
            "0.4377277390071145\n",
            "0.7853585837137692\n",
            "0.7799758081188035\n"
          ]
        }
      ]
    },
    {
      "cell_type": "markdown",
      "source": [
        "シードを固定すると毎回同じ番号が乱数として割り振られる。"
      ],
      "metadata": {
        "id": "cU1vHnblgHKa"
      }
    }
  ]
}