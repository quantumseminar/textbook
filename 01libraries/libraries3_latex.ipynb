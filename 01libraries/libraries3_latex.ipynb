{
  "nbformat": 4,
  "nbformat_minor": 0,
  "metadata": {
    "colab": {
      "provenance": [],
      "authorship_tag": "ABX9TyN3JnElhlVICDYUGsYG/aXJ",
      "include_colab_link": true
    },
    "kernelspec": {
      "name": "python3",
      "display_name": "Python 3"
    },
    "language_info": {
      "name": "python"
    }
  },
  "cells": [
    {
      "cell_type": "markdown",
      "metadata": {
        "id": "view-in-github",
        "colab_type": "text"
      },
      "source": [
        "<a href=\"https://colab.research.google.com/github/quantumseminar/textbook/blob/main/01libraries/libraries3_latex.ipynb\" target=\"_parent\"><img src=\"https://colab.research.google.com/assets/colab-badge.svg\" alt=\"Open In Colab\"/></a>"
      ]
    },
    {
      "cell_type": "markdown",
      "source": [
        "## latex（ラテフ・ラテック）\n",
        "google colabやjupyter notebookでは数式を簡単に書くことができます。説明の際には大変よく使うので覚えておいた方が良いです。\n",
        "\n",
        "まず書き方は、文章の中に入れる場合と、一行丸々使っての場合とがあります。\n",
        "\n",
        "文章の中に書くには、\\$記号で数式を囲みます。例えば、y = x^2を\\$記号で囲むと、$y = x^2$のようになります。\n",
        "\n",
        "これを\\$\\$の記号二つ連続して書いて囲むと、\n",
        "\n",
        "$$\n",
        "y= x^2\n",
        "$$\n",
        "\n",
        "一行使って記述されます。特によく使うのがシグマ記号です。総和（summation）記号で、与えられた数字の全てを加算することを意味しています。\n",
        "\n",
        "書き方は、\\sum_{k=0}^{10} k のようにかくと、\n",
        "\n",
        "$$\n",
        "\\sum_{k=0}^{10} k\n",
        "$$\n",
        "\n",
        "これは、シグマの下の数から、上の数までを順番に代入して、足し合わせるという意味になります。"
      ],
      "metadata": {
        "id": "3mMAqIXiTd3N"
      }
    },
    {
      "cell_type": "code",
      "source": [
        "0 + 1 + 2 + 3 + 4 + 5 + 6 + 7 + 8 + 9 + 10"
      ],
      "metadata": {
        "colab": {
          "base_uri": "https://localhost:8080/"
        },
        "id": "Y4kU81d6WfZ1",
        "outputId": "5a350a17-3264-495d-ce82-eb5cfeb2510d"
      },
      "execution_count": 1,
      "outputs": [
        {
          "output_type": "execute_result",
          "data": {
            "text/plain": [
              "55"
            ]
          },
          "metadata": {},
          "execution_count": 1
        }
      ]
    },
    {
      "cell_type": "markdown",
      "source": [
        "書き方は、\\sum_{k=0}^{10} k^2 のようにかくと、\n",
        "\n",
        "$$\n",
        "\\sum_{k=0}^{10} k^2\n",
        "$$"
      ],
      "metadata": {
        "id": "DFqwGHKnWvc8"
      }
    },
    {
      "cell_type": "code",
      "source": [
        "0**2 + 1**2 + 2**2 + 3**2 + 4**2 + 5**2 + 6**2 + 7**2 + 8**2 + 9**2 + 10**2"
      ],
      "metadata": {
        "colab": {
          "base_uri": "https://localhost:8080/"
        },
        "id": "s-9eTWiJWpdq",
        "outputId": "4df82461-c123-4fab-9b6c-7e0efbfa09c0"
      },
      "execution_count": 2,
      "outputs": [
        {
          "output_type": "execute_result",
          "data": {
            "text/plain": [
              "385"
            ]
          },
          "metadata": {},
          "execution_count": 2
        }
      ]
    },
    {
      "cell_type": "markdown",
      "source": [
        "LatexとPythonの計算式を自動的に行ってくれるライブラリもあるかもですが、基本的には自分で数式を理解して地道に実装する感じです。\n",
        "\n",
        "工夫して書いてもOK"
      ],
      "metadata": {
        "id": "ijPQgMx6XGuX"
      }
    },
    {
      "cell_type": "code",
      "source": [
        "arr = [i for i in range(11)]\n",
        "arr"
      ],
      "metadata": {
        "colab": {
          "base_uri": "https://localhost:8080/"
        },
        "id": "Gn-YWYHMXD6w",
        "outputId": "b0dbba10-c014-4d17-ac96-f083ae6e4124"
      },
      "execution_count": 4,
      "outputs": [
        {
          "output_type": "execute_result",
          "data": {
            "text/plain": [
              "[0, 1, 2, 3, 4, 5, 6, 7, 8, 9, 10]"
            ]
          },
          "metadata": {},
          "execution_count": 4
        }
      ]
    },
    {
      "cell_type": "markdown",
      "source": [
        "リストができたら合計"
      ],
      "metadata": {
        "id": "KOHFZbvsXzs3"
      }
    },
    {
      "cell_type": "code",
      "source": [
        "sum(arr)"
      ],
      "metadata": {
        "colab": {
          "base_uri": "https://localhost:8080/"
        },
        "id": "fgh6ofiQXtNP",
        "outputId": "ce56b944-da6f-43fe-be6a-0753e5bf0e90"
      },
      "execution_count": 5,
      "outputs": [
        {
          "output_type": "execute_result",
          "data": {
            "text/plain": [
              "55"
            ]
          },
          "metadata": {},
          "execution_count": 5
        }
      ]
    },
    {
      "cell_type": "markdown",
      "source": [
        "もう一つの式も"
      ],
      "metadata": {
        "id": "fnD4EYdPX1RS"
      }
    },
    {
      "cell_type": "code",
      "source": [
        "import numpy as np\n",
        "sum(np.array(arr)**2)"
      ],
      "metadata": {
        "colab": {
          "base_uri": "https://localhost:8080/"
        },
        "id": "BQrl_1hTXwVD",
        "outputId": "018d50f6-44ba-4f36-ead5-b484411d2b92"
      },
      "execution_count": 7,
      "outputs": [
        {
          "output_type": "execute_result",
          "data": {
            "text/plain": [
              "385"
            ]
          },
          "metadata": {},
          "execution_count": 7
        }
      ]
    },
    {
      "cell_type": "markdown",
      "source": [
        "これは、arrをnumpy arrayに直してから、二乗して、それの合計を取っている。\n"
      ],
      "metadata": {
        "id": "_zvXBef8X-p4"
      }
    }
  ]
}