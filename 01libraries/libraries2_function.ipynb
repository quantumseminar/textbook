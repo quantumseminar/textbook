{
  "nbformat": 4,
  "nbformat_minor": 0,
  "metadata": {
    "colab": {
      "provenance": [],
      "authorship_tag": "ABX9TyP/j3fUhUBBy7tfjbS83vbl",
      "include_colab_link": true
    },
    "kernelspec": {
      "name": "python3",
      "display_name": "Python 3"
    },
    "language_info": {
      "name": "python"
    }
  },
  "cells": [
    {
      "cell_type": "markdown",
      "metadata": {
        "id": "view-in-github",
        "colab_type": "text"
      },
      "source": [
        "<a href=\"https://colab.research.google.com/github/quantumseminar/textbook/blob/main/01libraries/libraries2_function.ipynb\" target=\"_parent\"><img src=\"https://colab.research.google.com/assets/colab-badge.svg\" alt=\"Open In Colab\"/></a>"
      ]
    },
    {
      "cell_type": "markdown",
      "source": [
        "## リストなどの計算\n",
        "リストはあまり計算に向いていません。関数とリストを組み合わせて計算するには、numpy（ナムパイ）を利用するのが良いです。"
      ],
      "metadata": {
        "id": "VnOn05iAPxhu"
      }
    },
    {
      "cell_type": "code",
      "execution_count": 7,
      "metadata": {
        "id": "jTtue49X5rKQ"
      },
      "outputs": [],
      "source": [
        "def f(x):\n",
        "  return 3*x"
      ]
    },
    {
      "cell_type": "markdown",
      "source": [
        "この関数のxに5を入れてみます。"
      ],
      "metadata": {
        "id": "q-G6cgXQQPfn"
      }
    },
    {
      "cell_type": "code",
      "source": [
        "x = 5\n",
        "f(x)"
      ],
      "metadata": {
        "colab": {
          "base_uri": "https://localhost:8080/"
        },
        "id": "e_DbT8KZQG0U",
        "outputId": "f6c373c3-cbf2-4bcd-a00b-db89734b11d9"
      },
      "execution_count": 8,
      "outputs": [
        {
          "output_type": "execute_result",
          "data": {
            "text/plain": [
              "15"
            ]
          },
          "metadata": {},
          "execution_count": 8
        }
      ]
    },
    {
      "cell_type": "markdown",
      "source": [
        "次のようにもかけますが、普通はx=5, f(x)のように変数を定義した方が良いです。"
      ],
      "metadata": {
        "id": "ulFQTIdDQS5e"
      }
    },
    {
      "cell_type": "code",
      "source": [
        "f(5)"
      ],
      "metadata": {
        "colab": {
          "base_uri": "https://localhost:8080/"
        },
        "id": "FbhHkGKIQMhc",
        "outputId": "55a7aa1f-8c07-4d4b-8b9e-e068d9fee196"
      },
      "execution_count": 9,
      "outputs": [
        {
          "output_type": "execute_result",
          "data": {
            "text/plain": [
              "15"
            ]
          },
          "metadata": {},
          "execution_count": 9
        }
      ]
    },
    {
      "cell_type": "markdown",
      "source": [
        "次に関数にリストを入れてみます。"
      ],
      "metadata": {
        "id": "Ts7iT40dQY2d"
      }
    },
    {
      "cell_type": "code",
      "source": [
        "x = [1,2,3]\n",
        "f(x)"
      ],
      "metadata": {
        "colab": {
          "base_uri": "https://localhost:8080/"
        },
        "id": "ooBjw7tZQXIl",
        "outputId": "b426b5db-82be-4314-b599-3662a64e7f37"
      },
      "execution_count": 10,
      "outputs": [
        {
          "output_type": "execute_result",
          "data": {
            "text/plain": [
              "[1, 2, 3, 1, 2, 3, 1, 2, 3]"
            ]
          },
          "metadata": {},
          "execution_count": 10
        }
      ]
    },
    {
      "cell_type": "markdown",
      "source": [
        "思っていた答えと違います。三回リストが繰り返されてしまいました。\n",
        "\n",
        "## numpy arrayの計算\n",
        "ここで、リストに似ていますが、numpyのarrayを使います。"
      ],
      "metadata": {
        "id": "KzsxGQuNQwmy"
      }
    },
    {
      "cell_type": "code",
      "source": [
        "import numpy as np\n",
        "\n",
        "x = np.array([1,2,3])"
      ],
      "metadata": {
        "id": "Xp_XVM3xQc_w"
      },
      "execution_count": 11,
      "outputs": []
    },
    {
      "cell_type": "markdown",
      "source": [
        "そして、関数に入れてみます。"
      ],
      "metadata": {
        "id": "bI-B3vyYQ90V"
      }
    },
    {
      "cell_type": "code",
      "source": [
        "f(x)"
      ],
      "metadata": {
        "colab": {
          "base_uri": "https://localhost:8080/"
        },
        "id": "osPWIY-EQ8VV",
        "outputId": "b7471000-f0c6-493a-9c08-bcebc867c606"
      },
      "execution_count": 12,
      "outputs": [
        {
          "output_type": "execute_result",
          "data": {
            "text/plain": [
              "array([3, 6, 9])"
            ]
          },
          "metadata": {},
          "execution_count": 12
        }
      ]
    },
    {
      "cell_type": "markdown",
      "source": [
        "思っていた通り、配列の各要素に3がかかりました。今後リスト形式に計算を行うにはnumpy arrayに直してから計算をします。\n",
        "\n",
        "今のf(x)の値をyとしてみます。"
      ],
      "metadata": {
        "id": "0MboWWULRALV"
      }
    },
    {
      "cell_type": "code",
      "source": [
        "y = f(x)"
      ],
      "metadata": {
        "id": "LbGbDvb3Q8_R"
      },
      "execution_count": 13,
      "outputs": []
    },
    {
      "cell_type": "markdown",
      "source": [
        "念の為に両方確認してみます。"
      ],
      "metadata": {
        "id": "UvMLfOanRWx_"
      }
    },
    {
      "cell_type": "code",
      "source": [
        "print(\"x\")\n",
        "print(x)\n",
        "print(\"y\")\n",
        "print(y)"
      ],
      "metadata": {
        "colab": {
          "base_uri": "https://localhost:8080/"
        },
        "id": "XGC0YqqQROQA",
        "outputId": "0f8c1498-da04-45f5-aa25-0bf395bc6e5c"
      },
      "execution_count": 15,
      "outputs": [
        {
          "output_type": "stream",
          "name": "stdout",
          "text": [
            "x\n",
            "[1 2 3]\n",
            "y\n",
            "[3 6 9]\n"
          ]
        }
      ]
    },
    {
      "cell_type": "markdown",
      "source": [
        "では、これを前のセクションで学んだチャートにしてみます。"
      ],
      "metadata": {
        "id": "_0idXwVoRZFb"
      }
    },
    {
      "cell_type": "code",
      "source": [
        "import matplotlib.pyplot as plt\n",
        "\n",
        "plt.plot(x,y)\n",
        "plt.show()"
      ],
      "metadata": {
        "colab": {
          "base_uri": "https://localhost:8080/",
          "height": 430
        },
        "id": "cbwEjNKyRc_5",
        "outputId": "d55cf5f3-3e71-4afe-8055-18eda219ab1f"
      },
      "execution_count": 17,
      "outputs": [
        {
          "output_type": "display_data",
          "data": {
            "text/plain": [
              "<Figure size 640x480 with 1 Axes>"
            ],
            "image/png": "[encoded data removed]"
          },
          "metadata": {}
        }
      ]
    },
    {
      "cell_type": "markdown",
      "source": [
        "無事表現できました。\n",
        "\n",
        "## 関数を使わないでappend\n",
        "リストを関数で計算できませんが、一つずつ値をappendすることでもチャートが書けます。\n",
        "\n",
        "空のリストarrに一つずつ値を入れてみます。"
      ],
      "metadata": {
        "id": "i1_m1UwWRm7T"
      }
    },
    {
      "cell_type": "code",
      "source": [
        "x = [1,2,3,4,5]\n",
        "\n",
        "arr = []\n",
        "\n",
        "for item in x:\n",
        "  arr.append(item * item)\n",
        "\n",
        "print(arr)"
      ],
      "metadata": {
        "colab": {
          "base_uri": "https://localhost:8080/"
        },
        "id": "eR-2EunxRhUY",
        "outputId": "7eb3045f-02d2-413c-8f86-a8efc4c22da8"
      },
      "execution_count": 19,
      "outputs": [
        {
          "output_type": "stream",
          "name": "stdout",
          "text": [
            "[1, 4, 9, 16, 25]\n"
          ]
        }
      ]
    },
    {
      "cell_type": "markdown",
      "source": [
        "このようにarrはリストで、値が入っています。これを図示してみます。"
      ],
      "metadata": {
        "id": "-HFY7mDUSca4"
      }
    },
    {
      "cell_type": "code",
      "source": [
        "plt.plot(x,arr)\n",
        "plt.show()"
      ],
      "metadata": {
        "colab": {
          "base_uri": "https://localhost:8080/",
          "height": 430
        },
        "id": "rGPziNcPSZEK",
        "outputId": "ca455437-5fef-4d25-f5e9-752197604fdd"
      },
      "execution_count": 21,
      "outputs": [
        {
          "output_type": "display_data",
          "data": {
            "text/plain": [
              "<Figure size 640x480 with 1 Axes>"
            ],
            "image/png": "[encoded data removed]"
          },
          "metadata": {}
        }
      ]
    },
    {
      "cell_type": "markdown",
      "source": [
        "上手くできました。関数を利用しないでリストだけで計算したい場合によく使います。"
      ],
      "metadata": {
        "id": "gpfKlFmSSjrv"
      }
    }
  ]
}
