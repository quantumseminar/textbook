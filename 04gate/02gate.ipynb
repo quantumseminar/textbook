{
  "nbformat": 4,
  "nbformat_minor": 0,
  "metadata": {
    "colab": {
      "provenance": [],
      "authorship_tag": "ABX9TyMZk8dj7+c/fTP89Ui/SMHn",
      "include_colab_link": true
    },
    "kernelspec": {
      "name": "python3",
      "display_name": "Python 3"
    },
    "language_info": {
      "name": "python"
    }
  },
  "cells": [
    {
      "cell_type": "markdown",
      "metadata": {
        "id": "view-in-github",
        "colab_type": "text"
      },
      "source": [
        "<a href=\"https://colab.research.google.com/github/quantumseminar/textbook/blob/main/04gate/02gate.ipynb\" target=\"_parent\"><img src=\"https://colab.research.google.com/assets/colab-badge.svg\" alt=\"Open In Colab\"/></a>"
      ]
    },
    {
      "cell_type": "markdown",
      "source": [
        "##ブロッホ球\n",
        "\n",
        "前回は簡単に概要を確認しました。量子ビットのデータは1量子ビットの場合には、概念的にブロッホ球というデータを表現する球の表面を取ります。\n",
        "\n",
        "![../img/02gate_01.jpg](../img/02gate_01.jpg)"
      ],
      "metadata": {
        "id": "OCQLOHvPGD7c"
      }
    },
    {
      "cell_type": "markdown",
      "source": [
        "## XYZ軸\n",
        "まず、ブロッホ球には軸があります。X軸、Y軸、Z軸が大事です。\n",
        "\n",
        "## データは0からスタート\n",
        "データは0からスタートします。縦のZ軸の上の頂点が0に相当します。物理ではこの0を|0>のように囲んで表現しますが、ケットゼロと呼びます。\n"
      ],
      "metadata": {
        "id": "gF25I_99Iwyx"
      }
    },
    {
      "cell_type": "markdown",
      "source": [
        "## 量子ゲート\n",
        "量子コンピュータはこのデータを操作しますが、球の中心の周りの回転で操作をします。量子ゲートはこの回転の仕方を指示するものです。"
      ],
      "metadata": {
        "id": "ZKVS6v-R7Qvl"
      }
    },
    {
      "cell_type": "markdown",
      "source": [
        "## 固定回転パウリゲート\n",
        "基本の固定回転を紹介します。それぞれXYZ軸周りに180度回転するゲートをそれぞれXゲート、Yゲート、Zゲートと呼びます。それらをまとめてパウリゲートと呼びます。\n",
        "\n",
        "Xゲート (X軸周りに180度固定回転)\n",
        "\n",
        "![../img/02gate_02.jpg](../img/02gate_02.jpg)\n",
        "\n",
        "Yゲート (Y軸周りに180度固定回転)\n",
        "\n",
        "![../img/02gate_03.jpg](../img/02gate_03.jpg)\n",
        "\n",
        "\n",
        "Zゲート (Z軸周りに180度固定回転)\n",
        "\n",
        "![../img/02gate_04.jpg](../img/02gate_04.jpg)"
      ],
      "metadata": {
        "id": "FNz4oi6s7cBH"
      }
    },
    {
      "cell_type": "markdown",
      "source": [
        "## 測定\n",
        "計算した後には測定が必要になる。簡単にいうと計算した結果を全てZ軸の0か1に戻す必要がある。データは必ずしもZ軸上にないので、その場合には、確率振幅（かくりつしんぷく）というデータの位置に合わせて元まる値から確率的に0か1を最後に決める。今回はすぐにはこれは学ばない。"
      ],
      "metadata": {
        "id": "PAywlmhcAczN"
      }
    },
    {
      "cell_type": "markdown",
      "source": [
        "## ちょっと計算してみる\n",
        "Qiskitで計算してみましょう。（オプションで-qをつけると出力のテキストが出なくなる）"
      ],
      "metadata": {
        "id": "5QFgY8YNI2vW"
      }
    },
    {
      "cell_type": "code",
      "execution_count": 14,
      "metadata": {
        "colab": {
          "base_uri": "https://localhost:8080/"
        },
        "id": "fTbktqO8-5Td",
        "outputId": "869de0eb-bb45-4b44-e96c-fc00609e79ce"
      },
      "outputs": [
        {
          "output_type": "stream",
          "name": "stdout",
          "text": [
            "\u001b[2K     \u001b[90m━━━━━━━━━━━━━━━━━━━━━━━━━━━━━━━━━━━━━━━━\u001b[0m \u001b[32m12.3/12.3 MB\u001b[0m \u001b[31m51.0 MB/s\u001b[0m eta \u001b[36m0:00:00\u001b[0m\n",
            "\u001b[?25h"
          ]
        }
      ],
      "source": [
        "!pip install -q qiskit qiskit-aer pylatexenc"
      ]
    },
    {
      "cell_type": "markdown",
      "source": [
        "## ツールの読み込み、量子ビットを準備する\n",
        "ツールを読み込み、1量子ビットを準備します。"
      ],
      "metadata": {
        "id": "kI23-a9iI8Pv"
      }
    },
    {
      "cell_type": "code",
      "source": [
        "from qiskit import QuantumCircuit\n",
        "from qiskit_aer import AerSimulator\n",
        "from qiskit.visualization import plot_histogram\n",
        "\n",
        "# 量子回路を準備。量子ゲートとその結果を格納する古典レジスタと呼ばれるものを準備\n",
        "qc = QuantumCircuit(1)\n",
        "\n",
        "# 回路を確認する\n",
        "qc.draw(output='mpl')"
      ],
      "metadata": {
        "id": "Aq9LnirEI5tg",
        "colab": {
          "base_uri": "https://localhost:8080/",
          "height": 127
        },
        "outputId": "6f9d098b-67b6-4e19-8fdf-4e1496675531"
      },
      "execution_count": 42,
      "outputs": [
        {
          "output_type": "execute_result",
          "data": {
            "text/plain": [
              "<Figure size 143.647x117.056 with 1 Axes>"
            ],
            "image/png": "[encoded data removed]"
          },
          "metadata": {},
          "execution_count": 42
        }
      ]
    },
    {
      "cell_type": "code",
      "source": [
        "# 測定で結果を確定する操作\n",
        "qc.measure_all()\n",
        "\n",
        "# もう一回確認してみる\n",
        "qc.draw(output='mpl')"
      ],
      "metadata": {
        "colab": {
          "base_uri": "https://localhost:8080/",
          "height": 191
        },
        "id": "_tMnQsg2IC6K",
        "outputId": "765e42ff-bc63-499f-fef1-1a91a90239e3"
      },
      "execution_count": 43,
      "outputs": [
        {
          "output_type": "execute_result",
          "data": {
            "text/plain": [
              "<Figure size 329.554x200.667 with 1 Axes>"
            ],
            "image/png": "[encoded data removed]"
          },
          "metadata": {},
          "execution_count": 43
        }
      ]
    },
    {
      "cell_type": "code",
      "source": [
        "# シミュレーターの設定\n",
        "aersim = AerSimulator(method='statevector')\n",
        "\n",
        "# 回路の実行。標準で1024回同じ計算を実行\n",
        "result = aersim.run(qc).result()\n",
        "counts = result.get_counts(0)\n",
        "\n",
        "print(counts)\n",
        "\n",
        "# 測定結果の頻度を棒グラフで表示\n",
        "plot_histogram(counts)"
      ],
      "metadata": {
        "colab": {
          "base_uri": "https://localhost:8080/",
          "height": 467
        },
        "id": "OJN67zt_IS5w",
        "outputId": "14afa357-ea0e-46d0-9b18-1ddc4175536f"
      },
      "execution_count": 44,
      "outputs": [
        {
          "output_type": "stream",
          "name": "stdout",
          "text": [
            "{'0': 1024}\n"
          ]
        },
        {
          "output_type": "execute_result",
          "data": {
            "text/plain": [
              "<Figure size 700x500 with 1 Axes>"
            ],
            "image/png": "[encoded data removed]"
          },
          "metadata": {},
          "execution_count": 44
        }
      ]
    },
    {
      "cell_type": "markdown",
      "source": [
        "何もゲートをかけていないので、0のままに。次に\n",
        "Xゲートをかけてみる。\n"
      ],
      "metadata": {
        "id": "i09t5kN9Kh7n"
      }
    },
    {
      "cell_type": "code",
      "source": [
        "# 量子回路を準備。量子ゲートとその結果を格納する古典レジスタと呼ばれるものを準備\n",
        "qc = QuantumCircuit(1)\n",
        "\n",
        "# Xゲートを0番目の量子ビットに適用\n",
        "qc.x(0)\n",
        "\n",
        "# 測定で結果を確定する操作\n",
        "qc.measure_all()\n",
        "\n",
        "# 回路を確認する\n",
        "qc.draw(output='mpl')"
      ],
      "metadata": {
        "colab": {
          "base_uri": "https://localhost:8080/",
          "height": 191
        },
        "id": "dMpM20d2Kk8p",
        "outputId": "759e54ee-6652-4a8c-f632-bfc6d5f9da94"
      },
      "execution_count": 45,
      "outputs": [
        {
          "output_type": "execute_result",
          "data": {
            "text/plain": [
              "<Figure size 413.165x200.667 with 1 Axes>"
            ],
            "image/png": "[encoded data removed]"
          },
          "metadata": {},
          "execution_count": 45
        }
      ]
    },
    {
      "cell_type": "code",
      "source": [
        "# 回路の実行。標準で1024回同じ計算を実行\n",
        "result = aersim.run(qc).result()\n",
        "counts = result.get_counts(0)\n",
        "\n",
        "print(counts)\n",
        "\n",
        "# 測定結果の頻度を棒グラフで表示\n",
        "plot_histogram(counts)"
      ],
      "metadata": {
        "colab": {
          "base_uri": "https://localhost:8080/",
          "height": 467
        },
        "id": "WdJ2CCdhKsS0",
        "outputId": "d0660920-efb8-43d6-906b-ac0832e9afde"
      },
      "execution_count": 46,
      "outputs": [
        {
          "output_type": "stream",
          "name": "stdout",
          "text": [
            "{'1': 1024}\n"
          ]
        },
        {
          "output_type": "execute_result",
          "data": {
            "text/plain": [
              "<Figure size 700x500 with 1 Axes>"
            ],
            "image/png": "[encoded data removed]"
          },
          "metadata": {},
          "execution_count": 46
        }
      ]
    },
    {
      "cell_type": "markdown",
      "source": [
        "今度は1000回1が出ました。これは0からX軸周りに180度回転させたので、1になりました。\n",
        "\n",
        "試しに、YゲートとZゲートも。"
      ],
      "metadata": {
        "id": "7JVpy5WbKyJ8"
      }
    },
    {
      "cell_type": "code",
      "source": [
        "# 量子回路を準備。量子ゲートとその結果を格納する古典レジスタと呼ばれるものを準備\n",
        "qc = QuantumCircuit(1)\n",
        "\n",
        "# Xゲートを0番目の量子ビットに適用\n",
        "qc.y(0)\n",
        "\n",
        "# 測定で結果を確定する操作\n",
        "qc.measure_all()\n",
        "\n",
        "# 回路を確認する\n",
        "qc.draw(output='mpl')"
      ],
      "metadata": {
        "colab": {
          "base_uri": "https://localhost:8080/",
          "height": 191
        },
        "id": "oGr1Ht0DKxjF",
        "outputId": "4de90cc3-d8ac-4cbb-f5e1-5382d0cc2d52"
      },
      "execution_count": 47,
      "outputs": [
        {
          "output_type": "execute_result",
          "data": {
            "text/plain": [
              "<Figure size 413.165x200.667 with 1 Axes>"
            ],
            "image/png": "[encoded data removed]"
          },
          "metadata": {},
          "execution_count": 47
        }
      ]
    },
    {
      "cell_type": "code",
      "source": [
        "# 回路の実行。標準で1024回同じ計算を実行\n",
        "result = aersim.run(qc).result()\n",
        "counts = result.get_counts(0)\n",
        "\n",
        "print(counts)\n",
        "\n",
        "# 測定結果の頻度を棒グラフで表示\n",
        "plot_histogram(counts)"
      ],
      "metadata": {
        "colab": {
          "base_uri": "https://localhost:8080/",
          "height": 467
        },
        "id": "EjCT3-bTLnTr",
        "outputId": "0102e144-8b9e-431e-bb9a-585cbef6d140"
      },
      "execution_count": 48,
      "outputs": [
        {
          "output_type": "stream",
          "name": "stdout",
          "text": [
            "{'1': 1024}\n"
          ]
        },
        {
          "output_type": "execute_result",
          "data": {
            "text/plain": [
              "<Figure size 700x500 with 1 Axes>"
            ],
            "image/png": "[encoded data removed]"
          },
          "metadata": {},
          "execution_count": 48
        }
      ]
    },
    {
      "cell_type": "markdown",
      "source": [
        "Y軸周りに回転させても1になりました。"
      ],
      "metadata": {
        "id": "aI5Htw5vLqKi"
      }
    },
    {
      "cell_type": "code",
      "source": [
        "# 量子回路を準備。量子ゲートとその結果を格納する古典レジスタと呼ばれるものを準備\n",
        "qc = QuantumCircuit(1)\n",
        "\n",
        "# Xゲートを0番目の量子ビットに適用\n",
        "qc.z(0)\n",
        "\n",
        "# 測定で結果を確定する操作\n",
        "qc.measure_all()\n",
        "\n",
        "# 回路を確認する\n",
        "qc.draw(output='mpl')"
      ],
      "metadata": {
        "colab": {
          "base_uri": "https://localhost:8080/",
          "height": 191
        },
        "id": "MeawWP4aLo4z",
        "outputId": "846f6b01-f713-44df-9b9e-303f8284f676"
      },
      "execution_count": 49,
      "outputs": [
        {
          "output_type": "execute_result",
          "data": {
            "text/plain": [
              "<Figure size 413.165x200.667 with 1 Axes>"
            ],
            "image/png": "[encoded data removed]"
          },
          "metadata": {},
          "execution_count": 49
        }
      ]
    },
    {
      "cell_type": "code",
      "source": [
        "# 回路の実行。標準で1024回同じ計算を実行\n",
        "result = aersim.run(qc).result()\n",
        "counts = result.get_counts(0)\n",
        "\n",
        "print(counts)\n",
        "\n",
        "# 測定結果の頻度を棒グラフで表示\n",
        "plot_histogram(counts)"
      ],
      "metadata": {
        "colab": {
          "base_uri": "https://localhost:8080/",
          "height": 467
        },
        "id": "PlbUq1paLtn8",
        "outputId": "bba05d6d-3a21-4245-d2af-a9c2c15a306b"
      },
      "execution_count": 50,
      "outputs": [
        {
          "output_type": "stream",
          "name": "stdout",
          "text": [
            "{'0': 1024}\n"
          ]
        },
        {
          "output_type": "execute_result",
          "data": {
            "text/plain": [
              "<Figure size 700x500 with 1 Axes>"
            ],
            "image/png": "[encoded data removed]"
          },
          "metadata": {},
          "execution_count": 50
        }
      ]
    },
    {
      "cell_type": "markdown",
      "source": [
        "最初0の時にZ軸まわりで回転させても0のままでした。\n",
        "\n",
        "## Hゲート（アダマールゲート）\n",
        "Zが使えないと困るので、便利なアダマールゲートを考えます。\n",
        "これはXとZ軸の間45度に新しく軸を作って180度回転させます。\n",
        "\n",
        "![../img/02gate_05.jpg](../img/02gate_05.jpg)"
      ],
      "metadata": {
        "id": "W53jwKltLvfc"
      }
    },
    {
      "cell_type": "code",
      "source": [],
      "metadata": {
        "id": "7CeoQS76Pde_"
      },
      "execution_count": null,
      "outputs": []
    }
  ]
}