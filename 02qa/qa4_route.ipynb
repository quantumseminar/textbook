{
  "nbformat": 4,
  "nbformat_minor": 0,
  "metadata": {
    "colab": {
      "provenance": [],
      "authorship_tag": "ABX9TyMaVOFW0RidvSSJQtQAiR4N",
      "include_colab_link": true
    },
    "kernelspec": {
      "name": "python3",
      "display_name": "Python 3"
    },
    "language_info": {
      "name": "python"
    }
  },
  "cells": [
    {
      "cell_type": "markdown",
      "metadata": {
        "id": "view-in-github",
        "colab_type": "text"
      },
      "source": [
        "<a href=\"https://colab.research.google.com/github/quantumseminar/textbook/blob/main/02qa/qa4_route.ipynb\" target=\"_parent\"><img src=\"https://colab.research.google.com/assets/colab-badge.svg\" alt=\"Open In Colab\"/></a>"
      ]
    },
    {
      "cell_type": "markdown",
      "source": [
        "## QUBOを利用したルート最適化\n",
        "イメージがなかなかわかないと思いますので、ルート最適化をQUBOを利用して行います。\n",
        "\n",
        "まず、問題を解くさいには、\n",
        "\n",
        "- 「制約（せいやく）条件」\n",
        "- 「コスト関数」\n",
        "\n",
        "の二つに分けて考えます。制約条件は必ず満たすべき条件、コスト関数はなるべく小さくしたい値です。\n",
        "\n",
        "今回の問題をベースに考えてみましょう。"
      ],
      "metadata": {
        "id": "eKdVquL4EG4E"
      }
    },
    {
      "cell_type": "markdown",
      "source": [
        "## 問題\n",
        "2台の自動車が同じスタート地点からゴール地点までいきます。１台の車には3つのルートが提案されるものとします。なるべく複数の車が同じ道を通らないようにルートの組合せを選んでください。\n",
        "\n",
        "![../img/qa4_01.jpg](../img/qa4_01.jpg)\n",
        "\n",
        "とりうるルートの候補は、\n",
        "\n",
        "car1,car2ともに、\n",
        "\n",
        "route1: s0 > s1 > s4 > s9   \n",
        "route2: s0 > s3 > s8 > s11   \n",
        "route3: s2 > s7 > s10 > s11\n",
        "\n",
        "とする。"
      ],
      "metadata": {
        "id": "tNL-5ored8Ze"
      }
    },
    {
      "cell_type": "markdown",
      "source": [
        "## 考え方\n",
        "量子ビットは、６つ用意する。\n",
        "\n",
        "q0,q1,q2,q3,q4,q5\n",
        "\n",
        "それぞれ、\n",
        "car1がroute1を選ぶ：q0\n",
        "car1がroute2を選ぶ:q1\n",
        "car1がroute3を選ぶ:q2\n",
        "\n",
        "car2がroute1を選ぶ:q3\n",
        "car2がroute2を選ぶ:q4\n",
        "car2がroute3を選ぶ:q5\n",
        "\n",
        "を割り当てる。\n",
        "\n",
        "また、量子ビットが1の時は、そのルートを選ぶ。0の時は選ばないとする。  \n",
        "例） q0=1でq4=1の時、car1はroute1を選んで、car2はroute2を選ぶ。"
      ],
      "metadata": {
        "id": "iBIp4WmmWR9M"
      }
    },
    {
      "cell_type": "markdown",
      "source": [
        "## 解き方１\n",
        "今回の問題は制約条件とコスト関数を考える。\n",
        "\n",
        "１、一台の車は必ず一つのルートを取る。二つ以上のルートを取ることはないし、一つも取らないというのも許されない（制約条件）\n",
        "\n",
        "２、なるべく混雑しないルートを選ぶ（コスト関数）"
      ],
      "metadata": {
        "id": "PK7yjXfdW2ik"
      }
    },
    {
      "cell_type": "markdown",
      "source": [
        "## 解き方２（制約条件）\n",
        "まず制約条件を考える。制約条件は、１台の車は1つのルートだけを選ぶ。これはよく出るパターン。\n",
        "\n",
        "まずcar1について考えると。car1はq0もしくはq1もしくはq2のうちどれかを取る。つまり、100,010,001のどれか。全部0とか、2つ以上0はだめ。\n",
        "\n",
        "これは、３つの量子ビットを足して1になる時、式が最も小さくなればいい。全部足して1を引いて2乗するとこの式を満たす。\n",
        "\n",
        "$$\n",
        "H_0 = (q_0 + q_1 + q_2 - 1)^2\n",
        "$$\n",
        "\n",
        "全部0だと、 $(0+0+0-1)^2$ = 1に、1つだけ1だと、$(1+0+0-1)^2=0$、2つ1だと、$(1+1+0-1)^2=1$、三つとも1だと、$(1+1+1-1)^2=4$となるので、一つだけ1の時が最も小さくなることがわかる。\n",
        "\n",
        "同様に、car2も同じで、\n",
        "\n",
        "$$\n",
        "H_1 = (q_3 + q_4 + q_5 - 1)^2\n",
        "$$\n",
        "\n",
        "これらが制約条件。これらは両方足してしまっていい。\n"
      ],
      "metadata": {
        "id": "NycNeMOFXKy7"
      }
    },
    {
      "cell_type": "markdown",
      "source": [
        "## 解き方3（コスト関数）\n",
        "次に混雑を計算する。混雑は、今回は各道ごとの混雑を式で表現する。続く"
      ],
      "metadata": {
        "id": "PaB9PAshYN7N"
      }
    },
    {
      "cell_type": "code",
      "source": [],
      "metadata": {
        "id": "O0z4rMGTWzkQ"
      },
      "execution_count": null,
      "outputs": []
    }
  ]
}