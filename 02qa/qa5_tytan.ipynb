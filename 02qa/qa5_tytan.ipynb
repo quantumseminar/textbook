{
  "nbformat": 4,
  "nbformat_minor": 0,
  "metadata": {
    "colab": {
      "provenance": [],
      "include_colab_link": true
    },
    "kernelspec": {
      "name": "python3",
      "display_name": "Python 3"
    },
    "language_info": {
      "name": "python"
    }
  },
  "cells": [
    {
      "cell_type": "markdown",
      "metadata": {
        "id": "view-in-github",
        "colab_type": "text"
      },
      "source": [
        "<a href=\"https://colab.research.google.com/github/quantumseminar/textbook/blob/main/02qa/qa5_tytan.ipynb\" target=\"_parent\"><img src=\"https://colab.research.google.com/assets/colab-badge.svg\" alt=\"Open In Colab\"/></a>"
      ]
    },
    {
      "cell_type": "markdown",
      "source": [
        "## QUBOアニーリングツールを活用したプログラミング\n",
        "前回制約条件とコスト関数から問題を定式化しました。この式を実際のPythonプログラミングに落とし込んで解くことができます。"
      ],
      "metadata": {
        "id": "eKdVquL4EG4E"
      }
    },
    {
      "cell_type": "markdown",
      "source": [
        "## 問題\n",
        "2台の自動車が同じスタート地点からゴール地点までいきます。１台の車には3つのルートが提案されるものとします。なるべく複数の車が同じ道を通らないようにルートの組合せを選んでください。\n",
        "\n",
        "![../img/qa4_01.jpg](https://github.com/quantumseminar/textbook/blob/main/img/qa4_01.jpg?raw=1)\n",
        "\n",
        "とりうるルートの候補は、\n",
        "\n",
        "car1,car2ともに、\n",
        "\n",
        "route1: s0 > s1 > s4 > s9   \n",
        "route2: s0 > s3 > s8 > s11   \n",
        "route3: s2 > s7 > s10 > s11\n",
        "\n",
        "とする。"
      ],
      "metadata": {
        "id": "tNL-5ored8Ze"
      }
    },
    {
      "cell_type": "markdown",
      "source": [
        "## 定式化\n",
        "制約条件は制約条件でまとめる。\n",
        "\n",
        "$$\n",
        "H_{const} = H_0 + H_1 = (q_0 + q_1 + q_2 - 1)^2 +  (q_3 + q_4 + q_5 - 1)^2\n",
        "$$\n",
        "\n",
        "コスト関数は道の混雑度を全部足して、\n",
        "\n",
        "$$\n",
        "H_{cost} = (q_0 + q_1 + q_3 + q_4)^2 + (q_0 + q_3)^2 + (q_2 + q_5)^2 + (q_1 + q_4)^2 + (q_0 + q_3)^2 + (q_2 + q_5)^2 + (q_1 + q_4)^2 + (q_0 + q_3)^2 +  (q_2 + q_5)^2 +  (q_1 + q_2 + q_4 + q_5)^2\n",
        "$$\n",
        "\n",
        "全部足すときに調整変数を挟む必要がある。\n",
        "\n",
        "$$\n",
        "H = H_{const} + M* H_{cost}\n",
        "$$"
      ],
      "metadata": {
        "id": "jDTpIRpdl1Bb"
      }
    },
    {
      "cell_type": "markdown",
      "source": [
        "## Tytanを使った計算\n",
        "定式化をプログラムの形にするためにライブラリ（追加のアプリみたいな便利なツール）を利用します。\n",
        "まずはインストールします。Google Colabを使う時は毎回インストールが必要です。"
      ],
      "metadata": {
        "id": "JV4iqJnh2gW3"
      }
    },
    {
      "cell_type": "code",
      "source": [
        "!pip install tytan"
      ],
      "metadata": {
        "id": "Q77Slb1k2fKT"
      },
      "execution_count": null,
      "outputs": []
    },
    {
      "cell_type": "markdown",
      "source": [
        "## ツールを読み込む\n",
        "インストールしたライブラリを読み込みます。今回読み込みは一行で終わりです。"
      ],
      "metadata": {
        "id": "aVszvPb-PMc-"
      }
    },
    {
      "cell_type": "code",
      "source": [
        "from tytan import *"
      ],
      "metadata": {
        "id": "3eQbBb-iPG6v"
      },
      "execution_count": 2,
      "outputs": []
    },
    {
      "cell_type": "markdown",
      "source": [
        "## 量子ビットを決める\n",
        "今回は6量子ビット使いますので、6個指定します。"
      ],
      "metadata": {
        "id": "ypkuywP2PgCn"
      }
    },
    {
      "cell_type": "code",
      "source": [
        "#量子ビットを用意\n",
        "q = symbols_list(6, 'q{}')"
      ],
      "metadata": {
        "id": "Xq__rF-pPfDv"
      },
      "execution_count": 3,
      "outputs": []
    },
    {
      "cell_type": "markdown",
      "source": [
        "## 式を入力する（制約条件）\n",
        "工夫しても入れられますが、今回は地道に入れます。まずは制約条件。\n",
        "\n",
        "$$\n",
        "H_{const} = H_0 + H_1 = (q_0 + q_1 + q_2 - 1)^2 +  (q_3 + q_4 + q_5 - 1)^2\n",
        "$$\n"
      ],
      "metadata": {
        "id": "oTzfG0ydPsJJ"
      }
    },
    {
      "cell_type": "code",
      "source": [
        "Hconst = (q[0]+q[1]+q[2]-1)**2 + (q[3]+q[4]+q[5]-1)**2"
      ],
      "metadata": {
        "id": "G-9PNWqGPpBe"
      },
      "execution_count": 4,
      "outputs": []
    },
    {
      "cell_type": "markdown",
      "source": [
        "## 式を入力する（コスト関数）\n",
        "次にコスト関数\n",
        "\n",
        "$$\n",
        "H_{cost} = (q_0 + q_1 + q_3 + q_4)^2 + (q_0 + q_3)^2 + (q_2 + q_5)^2 + (q_1 + q_4)^2 + (q_0 + q_3)^2 + (q_2 + q_5)^2 + (q_1 + q_4)^2 + (q_0 + q_3)^2 +  (q_2 + q_5)^2 +  (q_1 + q_2 + q_4 + q_5)^2\n",
        "$$"
      ],
      "metadata": {
        "id": "Fln7Oz8vP21z"
      }
    },
    {
      "cell_type": "code",
      "source": [
        "Hcost = (q[0]+q[1]+q[3]+q[4])**2 + (q[0]+q[3])**2 + (q[2]+q[5])**2 + (q[1]+q[4])**2 + (q[0]+q[3])**2 + (q[2]+q[5])**2 + (q[1]+q[4])**2 + (q[0]+q[3])**2 + (q[2]+q[5])**2 + (q[1]+q[2]+q[4]+q[5])**2"
      ],
      "metadata": {
        "id": "csPsJqSrP4CL"
      },
      "execution_count": 5,
      "outputs": []
    },
    {
      "cell_type": "markdown",
      "source": [
        "## 二つの式を繋げる\n",
        "繋げる時は調整変数（ちょうせいへんすう）と言って二つの式のバランスを決める値を挟む必要がありました。Mを設定してみます。\n"
      ],
      "metadata": {
        "id": "oEOqhCNcQ7dH"
      }
    },
    {
      "cell_type": "code",
      "source": [
        "M = 1\n",
        "H = Hcost + M*Hconst"
      ],
      "metadata": {
        "id": "-5pbcMVKQ53m"
      },
      "execution_count": 6,
      "outputs": []
    },
    {
      "cell_type": "markdown",
      "source": [
        "式を足し合わせた結果を見てみます。"
      ],
      "metadata": {
        "id": "hGbmSpikRcdm"
      }
    },
    {
      "cell_type": "code",
      "source": [
        "print(H)"
      ],
      "metadata": {
        "colab": {
          "base_uri": "https://localhost:8080/"
        },
        "id": "H0z4Q0HURF0x",
        "outputId": "6bbc310d-aea1-4c51-fee4-2e37344acca3"
      },
      "execution_count": 7,
      "outputs": [
        {
          "output_type": "stream",
          "name": "stdout",
          "text": [
            "3*(q0 + q3)**2 + 2*(q1 + q4)**2 + 3*(q2 + q5)**2 + (-1 + q0 + q1 + q2)**2 + (-1 + q3 + q4 + q5)**2 + (q0 + q1 + q3 + q4)**2 + (q1 + q2 + q4 + q5)**2\n"
          ]
        }
      ]
    },
    {
      "cell_type": "markdown",
      "source": [
        "展開はされていませんが、式は統合されたようです。\n",
        "\n",
        "## コンパイル\n",
        "今回は式を量子コンピュータや量子アニーラが読める形に変形します。コンパイルというのを使います。\n",
        "quboは式を縦横に数字が並んだ行列の形に。offsetは計算に関係のない固定の数字を抜き出します。"
      ],
      "metadata": {
        "id": "mG0cbFuBRfRR"
      }
    },
    {
      "cell_type": "code",
      "source": [
        "#コンパイル\n",
        "qubo, offset = Compile(H).get_qubo()"
      ],
      "metadata": {
        "id": "5xo1TS4ERJLG"
      },
      "execution_count": 8,
      "outputs": []
    },
    {
      "cell_type": "code",
      "source": [
        "print(qubo)"
      ],
      "metadata": {
        "colab": {
          "base_uri": "https://localhost:8080/"
        },
        "id": "J2jcfnZYRxoR",
        "outputId": "607a8233-8033-4b45-914b-cc83ee443b66"
      },
      "execution_count": 9,
      "outputs": [
        {
          "output_type": "stream",
          "name": "stdout",
          "text": [
            "{('q0', 'q0'): 3.0, ('q0', 'q4'): 2.0, ('q3', 'q4'): 4.0, ('q1', 'q1'): 3.0, ('q1', 'q2'): 4.0, ('q4', 'q4'): 3.0, ('q0', 'q3'): 8.0, ('q0', 'q1'): 4.0, ('q4', 'q2'): 2.0, ('q2', 'q2'): 3.0, ('q5', 'q2'): 8.0, ('q5', 'q4'): 4.0, ('q0', 'q2'): 2.0, ('q3', 'q3'): 3.0, ('q5', 'q5'): 3.0, ('q5', 'q1'): 2.0, ('q5', 'q3'): 2.0, ('q4', 'q1'): 8.0, ('q3', 'q1'): 2.0}\n"
          ]
        }
      ]
    },
    {
      "cell_type": "code",
      "source": [
        "print(offset)"
      ],
      "metadata": {
        "colab": {
          "base_uri": "https://localhost:8080/"
        },
        "id": "Wd6B3HGSR1rq",
        "outputId": "8ec41284-778d-4790-996b-d0aa59777853"
      },
      "execution_count": 10,
      "outputs": [
        {
          "output_type": "stream",
          "name": "stdout",
          "text": [
            "2.0\n"
          ]
        }
      ]
    },
    {
      "cell_type": "markdown",
      "source": [
        "あまり気にしないで、作業として計算をさせます。実はこのような計算を解いてくれるプログラムをソルバーとかサンプラーと呼んでいます。いろんな用途などに対応して色々なサンプラーがあります。今回はArminSamplerを使います。\n"
      ],
      "metadata": {
        "id": "Zl-kAz69R3zJ"
      }
    },
    {
      "cell_type": "code",
      "source": [
        "#サンプラー選択\n",
        "solver = sampler.ArminSampler()"
      ],
      "metadata": {
        "id": "8fyIm8S-R2-D"
      },
      "execution_count": 11,
      "outputs": []
    },
    {
      "cell_type": "markdown",
      "source": [
        "次に実際の計算を実行します。式を作ってサンプラーを選んだら実行するのみです。こうした計算の答えは決まった一つの答えが出るというよりも、いくつかの答えが出てくるのでサンプリングとも呼ばれます。"
      ],
      "metadata": {
        "id": "Xe2l-P-DSJBF"
      }
    },
    {
      "cell_type": "code",
      "source": [
        "#サンプリング\n",
        "result = solver.run(qubo)"
      ],
      "metadata": {
        "colab": {
          "base_uri": "https://localhost:8080/"
        },
        "id": "7IaJ3wfXSMW3",
        "outputId": "3c8f7a08-a255-49d0-9f41-910803ccb3e2"
      },
      "execution_count": 12,
      "outputs": [
        {
          "output_type": "stream",
          "name": "stdout",
          "text": [
            "MODE: CPU\n",
            "DEVICE: cpu\n"
          ]
        }
      ]
    },
    {
      "cell_type": "code",
      "source": [
        "#結果\n",
        "for r in result:\n",
        "    print(r)"
      ],
      "metadata": {
        "colab": {
          "base_uri": "https://localhost:8080/"
        },
        "id": "hnrBKU0SSERk",
        "outputId": "cb37f1d8-e344-4f96-8874-e96be271921d"
      },
      "execution_count": 13,
      "outputs": [
        {
          "output_type": "stream",
          "name": "stdout",
          "text": [
            "[{'q0': 0.0, 'q1': 0.0, 'q2': 0.0, 'q3': 0.0, 'q4': 0.0, 'q5': 0.0}, 0.0, 100]\n"
          ]
        }
      ]
    },
    {
      "cell_type": "markdown",
      "source": [
        "計算結果は100回計算してエネルギー0で全部0という答えが出ましたが、これはどの道も選んでないことになります。制約条件が満たされていないので、Mの値を大きくしてみます。"
      ],
      "metadata": {
        "id": "ZxZ9g92bS1lm"
      }
    },
    {
      "cell_type": "code",
      "source": [
        "M = 5\n",
        "H = Hcost + M*Hconst\n",
        "\n",
        "#コンパイル\n",
        "qubo, offset = Compile(H).get_qubo()\n",
        "\n",
        "#サンプリング\n",
        "result = solver.run(qubo)\n",
        "\n",
        "#結果\n",
        "for r in result:\n",
        "    print(r)"
      ],
      "metadata": {
        "colab": {
          "base_uri": "https://localhost:8080/"
        },
        "id": "C5o5PolPSVLl",
        "outputId": "3f4eef48-1df8-44fa-c68b-0f946bfc1df0"
      },
      "execution_count": 17,
      "outputs": [
        {
          "output_type": "stream",
          "name": "stdout",
          "text": [
            "MODE: CPU\n",
            "DEVICE: cpu\n",
            "[{'q0': 0.0, 'q1': 0.0, 'q2': 1.0, 'q3': 1.0, 'q4': 0.0, 'q5': 0.0}, -2.0, 45]\n",
            "[{'q0': 1.0, 'q1': 0.0, 'q2': 0.0, 'q3': 0.0, 'q4': 0.0, 'q5': 1.0}, -2.0, 38]\n",
            "[{'q0': 0.0, 'q1': 0.0, 'q2': 0.0, 'q3': 0.0, 'q4': 1.0, 'q5': 0.0}, -1.0, 14]\n",
            "[{'q0': 0.0, 'q1': 1.0, 'q2': 0.0, 'q3': 0.0, 'q4': 0.0, 'q5': 0.0}, -1.0, 3]\n"
          ]
        }
      ]
    },
    {
      "cell_type": "markdown",
      "source": [
        "今回は答えが45回エネルギーが-2.0の答えが出て、38回エネルギーが-2.0の答えが出ました。中を見てみると、\n",
        "\n",
        "上の答えは、\n",
        "car1はroute3を、car2はroute1を通るという答え、\n",
        "\n",
        "下の答えは、\n",
        "car1はroute1を、car3はroute3を通るという答えになりました。\n",
        "\n",
        "route1: s0 > s1 > s4 > s9   \n",
        "route2: s0 > s3 > s8 > s11   \n",
        "route3: s2 > s7 > s10 > s11\n",
        "\n",
        "![../img/qa4_01.jpg](https://github.com/quantumseminar/textbook/blob/main/img/qa4_01.jpg?raw=1)\n",
        "\n",
        "\n"
      ],
      "metadata": {
        "id": "OV7iHZwzTV-s"
      }
    }
  ]
}