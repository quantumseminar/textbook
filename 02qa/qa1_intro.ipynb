{
  "nbformat": 4,
  "nbformat_minor": 0,
  "metadata": {
    "colab": {
      "provenance": [],
      "authorship_tag": "ABX9TyMcXn+P0KIIhPOgBioeaJj/",
      "include_colab_link": true
    },
    "kernelspec": {
      "name": "python3",
      "display_name": "Python 3"
    },
    "language_info": {
      "name": "python"
    }
  },
  "cells": [
    {
      "cell_type": "markdown",
      "metadata": {
        "id": "view-in-github",
        "colab_type": "text"
      },
      "source": [
        "<a href=\"https://colab.research.google.com/github/quantumseminar/textbook/blob/main/02qa/qa1_intro.ipynb\" target=\"_parent\"><img src=\"https://colab.research.google.com/assets/colab-badge.svg\" alt=\"Open In Colab\"/></a>"
      ]
    },
    {
      "cell_type": "markdown",
      "source": [
        "## 量子アニーリング\n",
        "本格的な量子コンピュータを学ぶ前に、量子アニーリングと呼ばれる量子を使った特殊な計算を一つ学んでみます。\n",
        "\n",
        "量子アニーリング（Quantum Annealing）は、量子コンピューティングの一つであり、組合せ最適化問題を解決するための特定のアルゴリズムです。アニーリングというプロセスを量子力学に応用したものです。\n",
        "\n",
        "## アニーリングとは？\n",
        "アニーリングとは、熱い金属をゆっくり冷やしていくと結晶構造が安定し強固になるというプロセスで、これをソフトウェアにも応用できます。\n",
        "\n",
        "ソフトウェアでアニーリングを行うと、バラバラでランダムなところから少しずつ答えが揃っていき、欲しい答えに到達するというものです。組合せ最適化によく利用されます。\n",
        "\n",
        "## 組合せ最適化問題（くみあわせさいてきか）とは？\n",
        "組合せ最適化問題（Combinatorial Optimization Problem）は、さまざまな選択肢の中から最適な解（答え）を見つけるための問題形式の一つです。組合せ最適化問題では、車が複数の道路から最短距離で道路を選ぶとか、複雑なスケジュールを解いて最も効率的な方法を探すなど、社会問題に応用できます。組合せ最適化問題では離散値を使います。\n",
        "\n",
        "## 離散値（りさんち）と連続値（れんぞくち）\n",
        "離散値は、1,2,3,4のように整数をとって値がつながっていないものを指します。また、連続値は、0.123456, 0.123457, 0.123458のように、少数で連続しているような値を指します。コンピュータの計算では完全な連続値を表現できないので、少数で桁数を指定します。\n",
        "\n",
        "## 目的関数（もくてきかんすう）\n",
        "組合せ最適化問題では、小さくしたい値を目的関数という関数の形で表現します。目的関数は、「エネルギー関数」や「コスト関数」や物理の言葉で「ハミルトニアン」と呼ばれます。\n",
        "\n",
        "通常はこの目的関数を最大もしくは最小にするように計算がされます。アニーリングではこの目的関数を最小にするように設計されています。通常は目的関数を作ると勝手に小さい値を探してくれるようになっていますので、私たちは主にこの目的関数の作り方を学びます。"
      ],
      "metadata": {
        "id": "eKdVquL4EG4E"
      }
    }
  ]
}