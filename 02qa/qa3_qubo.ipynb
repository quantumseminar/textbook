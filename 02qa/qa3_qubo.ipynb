{
  "nbformat": 4,
  "nbformat_minor": 0,
  "metadata": {
    "colab": {
      "provenance": [],
      "authorship_tag": "ABX9TyN5o5y3LWfnb4Dh1iUk44rp",
      "include_colab_link": true
    },
    "kernelspec": {
      "name": "python3",
      "display_name": "Python 3"
    },
    "language_info": {
      "name": "python"
    }
  },
  "cells": [
    {
      "cell_type": "markdown",
      "metadata": {
        "id": "view-in-github",
        "colab_type": "text"
      },
      "source": [
        "<a href=\"https://colab.research.google.com/github/quantumseminar/textbook/blob/main/02qa/qa3_qubo.ipynb\" target=\"_parent\"><img src=\"https://colab.research.google.com/assets/colab-badge.svg\" alt=\"Open In Colab\"/></a>"
      ]
    },
    {
      "cell_type": "markdown",
      "source": [
        "## QUBO\n",
        "前の単元で学んだイジングモデルは物理学のモデルであるが、産業界では+1と-1を使うことに慣れていない。そのため、QUBO(Quadratic Uncostrainted Binary Optimization)というイジングモデルに似たモデルを代わりに利用する。\n",
        "\n",
        "違いはわずかで、+1と-1を使う代わりに、1と0を利用する。変換の仕方は簡単で、もとの+1と-1の値を1足して、2で割れば変換ができる。\n",
        "\n",
        "+1に+1すると+2に。それを2で割ると+1に戻る。一方で、-1に+1すると0になり、それを2で割っても同じく0になる。そうすることで、+1と-1の値を1と0にできる。\n",
        "\n",
        "![../img/qa3_01.jpg](../img/qa3_01.jpg)"
      ],
      "metadata": {
        "id": "eKdVquL4EG4E"
      }
    },
    {
      "cell_type": "markdown",
      "source": [
        "## ルール\n",
        "イジングモデルと全く同じで、量子ビットには２つの値を設定できる。\n",
        "\n",
        "・バイアス（局所磁場）\n",
        "・ウェイト（相互作用）\n",
        "\n",
        "![../img/qa2_02.jpg](https://github.com/quantumseminar/textbook/blob/main/img/qa2_02.jpg?raw=1)\n",
        "\n",
        "バイアスは1量子ビットが+1（上向き）になりやすいか0（下向き）になりやすいかを決めるために設定する値。\n",
        "\n",
        "相互作用は2量子ビットが両方1 (1,1) か、もしくは (1,0),（0,1）もしくは(0,0)になりやすいかを決める値。"
      ],
      "metadata": {
        "id": "tNL-5ored8Ze"
      }
    },
    {
      "cell_type": "markdown",
      "source": [
        "## 例題１：バイアス\n",
        "量子ビット$q_0$がある。この量子ビットに1の値をかけると\n",
        "\n",
        "$$1*1=1$$\n",
        "\n",
        "と\n",
        "\n",
        "$$1*0 = 0$$\n",
        "\n",
        "の両方の答えが考えられるが、量子ビットは値が小さい方になりやすいように計算されるので、0が答えとして出る。量子ビットに1を設定すると0が出やすい。"
      ],
      "metadata": {
        "id": "8ZP1ssi5eAHa"
      }
    },
    {
      "cell_type": "markdown",
      "source": [
        "## 例題2:バイアス\n",
        "量子ビット$q_0$がある。この量子ビットに-10の値をかけると\n",
        "\n",
        "$$-10*1=-10$$\n",
        "\n",
        "と\n",
        "\n",
        "$$-10*0=0$$\n",
        "\n",
        "量子ビットは値が小さい方になりやすいように計算されるので、1が答えとして出る。量子ビットに-10を設定すると1が出やすい。"
      ],
      "metadata": {
        "id": "imcoXYpbeDby"
      }
    },
    {
      "cell_type": "markdown",
      "source": [
        "## 例題3:相互作用\n",
        "２つの量子ビット$q_0$と$q_1$がある。この量子ビットの間に+1の値をかけると\n",
        "\n",
        "両方とも1の場合、\n",
        "\n",
        "$$1 * 1 * 1 = 1$$\n",
        "\n",
        "もしくは、両方ゼロか片方がゼロの場合、\n",
        "\n",
        "$$1 * 0 * 0 = 0$$\n",
        "\n",
        "$$1 * 1 * 0 = 0$$\n",
        "\n",
        "$$1 * 0 * 1 = 0$$\n",
        "\n",
        "なので、+1を相互作用としてかけると、00,01,10のどれかになりやすくなる。\n"
      ],
      "metadata": {
        "id": "919tXWHUeGiQ"
      }
    },
    {
      "cell_type": "markdown",
      "source": [
        "## 例題4:バイアスと相互作用の両方を使う場合\n",
        "上記のバイアスと相互作用を同時に利用することもできる。$q_0$に+1のバイアスをかけ、$q_0$と$q_1$の相互作用に+1を作用させた場合、\n",
        "\n",
        "$q_0$にバイアス+1がかかっているので、$q_0$は0になりやすい\n",
        "$q_0$と$q_1$の相互作用には+1がかかっているので、$q_0$と$q_1$は00,01,10のどれかになりやすい。\n",
        "\n",
        "ここで、$q_1$には値はかかっていないので、先に$q_0$を考えると、バイアスから$q_0$は0に。そして、相互作用から00,01,10のどれかになるので、$q_1$は0か1に。\n",
        "\n",
        "なので、順番には考えると、$q_0=0,q_1=0$もしくは$1$に。"
      ],
      "metadata": {
        "id": "55NA30kOfHKb"
      }
    },
    {
      "cell_type": "markdown",
      "source": [
        "## 式の形に\n",
        "上記を式の形にもできる。その際には最初に全部の式を書き出す。\n",
        "\n",
        "$$\n",
        "H = h_0 * q_0 + h_1 * q_1 + J_{01} * q_0 * q_1\n",
        "$$\n",
        "\n",
        "そして、$h_0 = 1$と$h_1=0$を代入して、$J_{01}=1$を代入します。すると、\n",
        "\n",
        "$$\n",
        "H = 1 * q_0 + 0 * q_1 + 1 * q_0 * q_1 = q_0 + q_0 * q_1\n",
        "$$\n",
        "\n",
        "となりました。この$q_0 + q_0 * q_1$が最小になるような$q_0$と$q_1$の組合せを考えます。"
      ],
      "metadata": {
        "id": "_y8YEmfMlsnj"
      }
    },
    {
      "cell_type": "code",
      "source": [],
      "metadata": {
        "id": "U91MMJHYJ2fi"
      },
      "execution_count": null,
      "outputs": []
    }
  ]
}