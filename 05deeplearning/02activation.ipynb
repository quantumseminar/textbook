{
  "nbformat": 4,
  "nbformat_minor": 0,
  "metadata": {
    "colab": {
      "provenance": [],
      "authorship_tag": "ABX9TyP6ZkQxq6MuHcu4yoOAwX8+",
      "include_colab_link": true
    },
    "kernelspec": {
      "name": "python3",
      "display_name": "Python 3"
    },
    "language_info": {
      "name": "python"
    }
  },
  "cells": [
    {
      "cell_type": "markdown",
      "metadata": {
        "id": "view-in-github",
        "colab_type": "text"
      },
      "source": [
        "<a href=\"https://colab.research.google.com/github/quantumseminar/textbook/blob/main/05deeplearning/02activation.ipynb\" target=\"_parent\"><img src=\"https://colab.research.google.com/assets/colab-badge.svg\" alt=\"Open In Colab\"/></a>"
      ]
    },
    {
      "cell_type": "markdown",
      "source": [
        "# 2 活性化関数\n",
        "\n",
        "これまで単にたし合わせてきた出力値を非線形性と言ってより複雑な関数に変換するための関数を適用します。これを活性化関数（かっせいかかんすう）と言います。\n",
        "\n",
        "活性化関数にはさまざまな種類がありますが、今回はよく利用されるReLUと呼ばれる活性化関数を適用します。これは、出力が0以下の場合には0となり、0以上の場合には、y=xとなる関数です。\n",
        "\n",
        "![../img/activation01.jpg](../img/activation01.jpg)\n",
        "\n",
        "この活性化関数は出力値に適用します。\n",
        "\n",
        "![../img/activation02.jpg](../img/activation02.jpg)\n",
        "\n",
        "単一のユニットで実行してみます。yを求めた後に、max関数を利用して、ReLUを表現してみます。\n"
      ],
      "metadata": {
        "id": "HWqY4emajU4K"
      }
    },
    {
      "cell_type": "code",
      "source": [
        "x = 2\n",
        "w = 3\n",
        "b = 4\n",
        "\n",
        "y = w*x + b\n",
        "\n",
        "#こちらを挿入\n",
        "ya = max(0, y)\n",
        "print(y)"
      ],
      "metadata": {
        "colab": {
          "base_uri": "https://localhost:8080/"
        },
        "id": "vOwdsusNq8EB",
        "outputId": "48693ff4-d32e-43c8-be12-3bf8f8bd2ced"
      },
      "execution_count": 2,
      "outputs": [
        {
          "output_type": "stream",
          "name": "stdout",
          "text": [
            "10\n"
          ]
        }
      ]
    },
    {
      "cell_type": "markdown",
      "source": [
        "この場合、出力値が10で正の値ですので、そのまま10が出てきました。同様のことをPyTorchでも行ってみます。\n",
        "\n",
        "PyTorchの場合、活性化関数の設定ができます。"
      ],
      "metadata": {
        "id": "XavKBKksrHyJ"
      }
    },
    {
      "cell_type": "code",
      "source": [
        "#ツールを読み込み\n",
        "import torch\n",
        "import torch.nn as nn\n",
        "import torch.nn.functional as F\n",
        "\n",
        "#入力値xの個数を3に設定\n",
        "num_input = 1\n",
        "\n",
        "#ニューロンの数を2に変更\n",
        "num_neuron = 1\n",
        "\n",
        "#単体ユニットを作る\n",
        "fc = nn.Linear(num_input, num_neuron)\n",
        "\n",
        "#wとbを設定します。今回wは三つ設定します。\n",
        "fc.weight = nn.Parameter(torch.tensor([[3.]]))\n",
        "fc.bias = nn.Parameter(torch.tensor([4.]))\n",
        "\n",
        "#xを決める。今回は1,2,3の三つを入れます。\n",
        "x = torch.tensor([[2]], dtype=torch.float32)\n",
        "\n",
        "#yを計算する\n",
        "y = F.relu(fc(x))\n",
        "print(y)"
      ],
      "metadata": {
        "colab": {
          "base_uri": "https://localhost:8080/"
        },
        "id": "hR7NzNmKrJmh",
        "outputId": "7af5a66e-cb47-484c-bb0b-39f8a3e67c98"
      },
      "execution_count": 3,
      "outputs": [
        {
          "output_type": "stream",
          "name": "stdout",
          "text": [
            "tensor([[10.]], grad_fn=<ReluBackward0>)\n"
          ]
        }
      ]
    },
    {
      "cell_type": "markdown",
      "source": [
        "こちらも同様に10が得られました。"
      ],
      "metadata": {
        "id": "zwDm_0R0rPFj"
      }
    },
    {
      "cell_type": "markdown",
      "source": [
        "# ディープニューラルネットワーク\n",
        "これまでの活性化関数を含む計算を複数レイヤー繋げて行うとディープニューラルネットワークができます。前のレイヤーの出力を次のレイヤーの入力として扱うことでレイヤーを複数作ることができます（図ではバイアスを省略しています）。\n",
        "\n",
        "![../img/deep01.jpg](../img/deep01.jpg)\n",
        "\n",
        "\n",
        "左の入力から右の出力まで順番に計算をしていきます。\n",
        "\n",
        "今回は少し書き方を変更してみます。 Sequentialを利用して、順番に書くことができます。"
      ],
      "metadata": {
        "id": "zEzV4F51rU1X"
      }
    },
    {
      "cell_type": "code",
      "source": [
        "#ツールを読み込み\n",
        "import torch\n",
        "import torch.nn as nn\n",
        "\n",
        "model = nn.Sequential(\n",
        "    nn.Linear(3, 2),\n",
        "    nn.ReLU(),\n",
        "    nn.Linear(2, 3),\n",
        "    nn.ReLU(),\n",
        "    nn.Linear(3, 1),\n",
        ")\n",
        "\n",
        "print(model)"
      ],
      "metadata": {
        "colab": {
          "base_uri": "https://localhost:8080/"
        },
        "id": "yB1VmDNrrJ2r",
        "outputId": "5153a3a2-7566-4e52-a56e-2422cb0e953e"
      },
      "execution_count": 4,
      "outputs": [
        {
          "output_type": "stream",
          "name": "stdout",
          "text": [
            "Sequential(\n",
            "  (0): Linear(in_features=3, out_features=2, bias=True)\n",
            "  (1): ReLU()\n",
            "  (2): Linear(in_features=2, out_features=3, bias=True)\n",
            "  (3): ReLU()\n",
            "  (4): Linear(in_features=3, out_features=1, bias=True)\n",
            ")\n"
          ]
        }
      ]
    },
    {
      "cell_type": "markdown",
      "source": [
        "レイヤーができました。weightは初期のランダムの設定です。実行してみます。"
      ],
      "metadata": {
        "id": "YJ6QWbXfr5Li"
      }
    },
    {
      "cell_type": "code",
      "source": [
        "x = torch.tensor([[2,3,4]], dtype=torch.float32)\n",
        "model(x)"
      ],
      "metadata": {
        "colab": {
          "base_uri": "https://localhost:8080/"
        },
        "id": "i7EcrFFNr3If",
        "outputId": "f40f3d2c-a2f5-435f-acd2-0af20f0f28c8"
      },
      "execution_count": 5,
      "outputs": [
        {
          "output_type": "execute_result",
          "data": {
            "text/plain": [
              "tensor([[-0.4302]], grad_fn=<AddmmBackward0>)"
            ]
          },
          "metadata": {},
          "execution_count": 5
        }
      ]
    },
    {
      "cell_type": "markdown",
      "source": [
        "計算ができました。weightを自分で書きたいときは、レイヤーの番号を指定してテンソルを書き直します。"
      ],
      "metadata": {
        "id": "hjLP0xrtr8uY"
      }
    },
    {
      "cell_type": "code",
      "source": [
        "model[0].weight = nn.Parameter(torch.tensor([[3.,4.,5.],[3.,4.,5.]]))\n",
        "model[0].bias = nn.Parameter(torch.tensor([4.]))\n",
        "\n",
        "model[2].weight = nn.Parameter(torch.tensor([[3.,4.],[3.,4.],[3.,4.]]))\n",
        "model[2].bias = nn.Parameter(torch.tensor([4.]))\n",
        "\n",
        "model[4].weight = nn.Parameter(torch.tensor([[3.,3.,3.]]))\n",
        "model[4].bias = nn.Parameter(torch.tensor([4.]))"
      ],
      "metadata": {
        "id": "MXJRNbk7r7CF"
      },
      "execution_count": 6,
      "outputs": []
    },
    {
      "cell_type": "code",
      "source": [
        "x = torch.tensor([[2,3,4]], dtype=torch.float32)\n",
        "model(x)"
      ],
      "metadata": {
        "colab": {
          "base_uri": "https://localhost:8080/"
        },
        "id": "XeEaaee1r-Za",
        "outputId": "e1385047-254a-45c1-f63d-1354db818b4d"
      },
      "execution_count": 7,
      "outputs": [
        {
          "output_type": "execute_result",
          "data": {
            "text/plain": [
              "tensor([[2686.]], grad_fn=<AddmmBackward0>)"
            ]
          },
          "metadata": {},
          "execution_count": 7
        }
      ]
    },
    {
      "cell_type": "markdown",
      "source": [
        "これでディープニューラルネットワークができましたが、毎回自分で値を書き込むのは大変なので、今後は学習を通じて値を自動的に計算をします。"
      ],
      "metadata": {
        "id": "njR-YI-SsBuI"
      }
    },
    {
      "cell_type": "markdown",
      "source": [
        "# 確率的勾配法\n",
        "ディープラーニングでは途中の重みを自分で入力するのは大変なので、入力データとそれに対応した正解データ（ラベル）を用意して、自動的に学習や訓練を行います。\n",
        "\n",
        "\n",
        "学習は、損失関数と呼ばれる関数を利用します。入力値から出力値を計算し、正解のデータとの誤差を損失関数で計算します。最終的には誤差が0に近づくように学習します。\n",
        "\n",
        "\n",
        "学習は損失関数を利用してそれをゼロになるように計算をしますが。その際には最適化を利用します。最適化は、値を少しずらしその微分係数を求めて、傾きと逆の方に値を少し更新します。そのようにして値をゼロに少しずつ近づけます。\n",
        "\n",
        "最初にモデルを作成します。"
      ],
      "metadata": {
        "id": "sT4lmvY5uW-X"
      }
    },
    {
      "cell_type": "code",
      "source": [
        "#ツールを読み込み\n",
        "import torch\n",
        "import torch.nn as nn\n",
        "import torch.optim as optim\n",
        "\n",
        "#レイヤーを作る\n",
        "model = nn.Sequential(\n",
        "    nn.Linear(3, 2),\n",
        "    nn.ReLU(),\n",
        "    nn.Linear(2, 3),\n",
        "    nn.ReLU(),\n",
        "    nn.Linear(3, 1),\n",
        ")"
      ],
      "metadata": {
        "id": "aIshp8TEr_vh"
      },
      "execution_count": 8,
      "outputs": []
    },
    {
      "cell_type": "markdown",
      "source": [
        "次に最適化アルゴリズムを選択します。PyTorchには最初から使いやすいアルゴリズムが搭載されています。今回のタイトルにもある確率的勾配法 Stochastic Gradient Descentを利用します。lrはLearning Rateの略でここは適当に0.01に決めておきます。"
      ],
      "metadata": {
        "id": "piQO9bBMucwo"
      }
    },
    {
      "cell_type": "code",
      "source": [
        "#最適化アルゴリズム。今回はSGDを採用。\n",
        "optimizer = optim.SGD(model.parameters(), lr=0.01)"
      ],
      "metadata": {
        "id": "UVZIhqaXua7U"
      },
      "execution_count": 9,
      "outputs": []
    },
    {
      "cell_type": "markdown",
      "source": [
        "次に今回の誤差を計算する損失関数を選びます。今回は平均二乗誤差 Mean Squared Error を選びます。損失関数も使いやすいライブラリがPyTorchに搭載されています。"
      ],
      "metadata": {
        "id": "Lkfnr2oSugTH"
      }
    },
    {
      "cell_type": "code",
      "source": [
        "#誤差関数。今回はMSE。\n",
        "criterion = nn.MSELoss()"
      ],
      "metadata": {
        "id": "cFOif0C-uemU"
      },
      "execution_count": 10,
      "outputs": []
    },
    {
      "cell_type": "markdown",
      "source": [
        "では、早速学習を始めてみます。入力データxは2,3,4とします。正解データは今回は適当にy=3.14とします。\n",
        "\n",
        "最適化を通じて重みwがx=2,3,4を入れた時に、y=3.14に近づくように計算されます。\n",
        "\n",
        "値の更新は少しずつ行われるので、100回計算します。"
      ],
      "metadata": {
        "id": "u2At7QzuuxE9"
      }
    },
    {
      "cell_type": "code",
      "source": [
        "#今回学びたいデータ。xが入力値。yが正解ラベル。\n",
        "x = torch.tensor([[2,3,4]], dtype=torch.float32)\n",
        "y = torch.tensor([[3.14]], dtype=torch.float32)\n",
        "\n",
        "#損失関数の値を格納するリスト\n",
        "history = []\n",
        "\n",
        "#モデルの学習\n",
        "model.train()\n",
        "\n",
        "#20回学習する\n",
        "for i in range(100):\n",
        "    model.zero_grad()\n",
        "\n",
        "    #計算した出力\n",
        "    outputs = model(x)\n",
        "\n",
        "    #lossの計算逆伝搬\n",
        "    loss = criterion(outputs, y)\n",
        "    loss.backward()\n",
        "    optimizer.step()\n",
        "\n",
        "    #誤差関数を格納\n",
        "    history.append(loss.item())"
      ],
      "metadata": {
        "id": "hkokcCNPuhvR"
      },
      "execution_count": 11,
      "outputs": []
    },
    {
      "cell_type": "markdown",
      "source": [
        "ループが終わると学習が済みます。modelの中のパラメータが更新されていますので、xを入れて出力値yを求めてみます。"
      ],
      "metadata": {
        "id": "ynYiguemu1-q"
      }
    },
    {
      "cell_type": "code",
      "source": [
        "model(x)"
      ],
      "metadata": {
        "colab": {
          "base_uri": "https://localhost:8080/"
        },
        "id": "zVA-jnCuu0SS",
        "outputId": "967305bb-8d0e-4f78-b000-249dd404ef11"
      },
      "execution_count": 12,
      "outputs": [
        {
          "output_type": "execute_result",
          "data": {
            "text/plain": [
              "tensor([[3.1400]], grad_fn=<AddmmBackward0>)"
            ]
          },
          "metadata": {},
          "execution_count": 12
        }
      ]
    },
    {
      "cell_type": "markdown",
      "source": [
        "きちんと出力値は3.14となっていました。途中過程の損失関数の値をリストに格納しましたので、その値の変遷を確認してみたいと思います。"
      ],
      "metadata": {
        "id": "sB-eT0HMu5Fo"
      }
    },
    {
      "cell_type": "code",
      "source": [
        "import matplotlib.pyplot as plt\n",
        "plt.plot(history)\n",
        "plt.show()"
      ],
      "metadata": {
        "colab": {
          "base_uri": "https://localhost:8080/",
          "height": 430
        },
        "id": "NIkuaXl7u3Ta",
        "outputId": "d2208bd0-af29-477b-b379-05a409b0438c"
      },
      "execution_count": 13,
      "outputs": [
        {
          "output_type": "display_data",
          "data": {
            "text/plain": [
              "<Figure size 640x480 with 1 Axes>"
            ],
            "image/png": "[encoded data removed]"
          },
          "metadata": {}
        }
      ]
    },
    {
      "cell_type": "markdown",
      "source": [
        "損失関数は最初誤差が大きかったですが、最終的に0に近づくのが確認できます。\n",
        "\n"
      ],
      "metadata": {
        "id": "Ntp-lSsNu8JM"
      }
    }
  ]
}