{
  "nbformat": 4,
  "nbformat_minor": 0,
  "metadata": {
    "colab": {
      "provenance": [],
      "authorship_tag": "ABX9TyM5BPBXX7fzhA57r1zvtypb",
      "include_colab_link": true
    },
    "kernelspec": {
      "name": "python3",
      "display_name": "Python 3"
    },
    "language_info": {
      "name": "python"
    }
  },
  "cells": [
    {
      "cell_type": "markdown",
      "metadata": {
        "id": "view-in-github",
        "colab_type": "text"
      },
      "source": [
        "<a href=\"https://colab.research.google.com/github/quantumseminar/textbook/blob/main/05deeplearning/01neuron.ipynb\" target=\"_parent\"><img src=\"https://colab.research.google.com/assets/colab-badge.svg\" alt=\"Open In Colab\"/></a>"
      ]
    },
    {
      "cell_type": "markdown",
      "source": [
        "# 1 ニューロン\n",
        "\n",
        "## 1.1 ニューラルネットワーク\n",
        "ディープラーニングでは主にニューラルネットワークと呼ばれるものを利用します。ここでは、PyTorch（パイトーチ）というツールを使って順番にニューラルネットワークを利用しての計算を学びます。\n",
        "\n",
        "\n",
        "PyTorchのインストール\n",
        "インストールはシンプルです。pypiでインストールします。"
      ],
      "metadata": {
        "id": "HWqY4emajU4K"
      }
    },
    {
      "cell_type": "code",
      "source": [
        "pip install torch"
      ],
      "metadata": {
        "colab": {
          "base_uri": "https://localhost:8080/"
        },
        "id": "rlHKyoX7jW6i",
        "outputId": "ccc204ef-daa2-4fff-e194-83087fb19f2e"
      },
      "execution_count": 1,
      "outputs": [
        {
          "output_type": "stream",
          "name": "stdout",
          "text": [
            "Requirement already satisfied: torch in /usr/local/lib/python3.10/dist-packages (2.2.1+cu121)\n",
            "Requirement already satisfied: filelock in /usr/local/lib/python3.10/dist-packages (from torch) (3.13.3)\n",
            "Requirement already satisfied: typing-extensions>=4.8.0 in /usr/local/lib/python3.10/dist-packages (from torch) (4.10.0)\n",
            "Requirement already satisfied: sympy in /usr/local/lib/python3.10/dist-packages (from torch) (1.12)\n",
            "Requirement already satisfied: networkx in /usr/local/lib/python3.10/dist-packages (from torch) (3.2.1)\n",
            "Requirement already satisfied: jinja2 in /usr/local/lib/python3.10/dist-packages (from torch) (3.1.3)\n",
            "Requirement already satisfied: fsspec in /usr/local/lib/python3.10/dist-packages (from torch) (2023.6.0)\n",
            "Collecting nvidia-cuda-nvrtc-cu12==12.1.105 (from torch)\n",
            "  Downloading nvidia_cuda_nvrtc_cu12-12.1.105-py3-none-manylinux1_x86_64.whl (23.7 MB)\n",
            "\u001b[2K     \u001b[90m━━━━━━━━━━━━━━━━━━━━━━━━━━━━━━━━━━━━━━━━\u001b[0m \u001b[32m23.7/23.7 MB\u001b[0m \u001b[31m31.2 MB/s\u001b[0m eta \u001b[36m0:00:00\u001b[0m\n",
            "\u001b[?25hCollecting nvidia-cuda-runtime-cu12==12.1.105 (from torch)\n",
            "  Downloading nvidia_cuda_runtime_cu12-12.1.105-py3-none-manylinux1_x86_64.whl (823 kB)\n",
            "\u001b[2K     \u001b[90m━━━━━━━━━━━━━━━━━━━━━━━━━━━━━━━━━━━━━━━━\u001b[0m \u001b[32m823.6/823.6 kB\u001b[0m \u001b[31m40.1 MB/s\u001b[0m eta \u001b[36m0:00:00\u001b[0m\n",
            "\u001b[?25hCollecting nvidia-cuda-cupti-cu12==12.1.105 (from torch)\n",
            "  Downloading nvidia_cuda_cupti_cu12-12.1.105-py3-none-manylinux1_x86_64.whl (14.1 MB)\n",
            "\u001b[2K     \u001b[90m━━━━━━━━━━━━━━━━━━━━━━━━━━━━━━━━━━━━━━━━\u001b[0m \u001b[32m14.1/14.1 MB\u001b[0m \u001b[31m34.2 MB/s\u001b[0m eta \u001b[36m0:00:00\u001b[0m\n",
            "\u001b[?25hCollecting nvidia-cudnn-cu12==8.9.2.26 (from torch)\n",
            "  Downloading nvidia_cudnn_cu12-8.9.2.26-py3-none-manylinux1_x86_64.whl (731.7 MB)\n",
            "\u001b[2K     \u001b[90m━━━━━━━━━━━━━━━━━━━━━━━━━━━━━━━━━━━━━━━━\u001b[0m \u001b[32m731.7/731.7 MB\u001b[0m \u001b[31m949.8 kB/s\u001b[0m eta \u001b[36m0:00:00\u001b[0m\n",
            "\u001b[?25hCollecting nvidia-cublas-cu12==12.1.3.1 (from torch)\n",
            "  Downloading nvidia_cublas_cu12-12.1.3.1-py3-none-manylinux1_x86_64.whl (410.6 MB)\n",
            "\u001b[2K     \u001b[90m━━━━━━━━━━━━━━━━━━━━━━━━━━━━━━━━━━━━━━━━\u001b[0m \u001b[32m410.6/410.6 MB\u001b[0m \u001b[31m1.3 MB/s\u001b[0m eta \u001b[36m0:00:00\u001b[0m\n",
            "\u001b[?25hCollecting nvidia-cufft-cu12==11.0.2.54 (from torch)\n",
            "  Downloading nvidia_cufft_cu12-11.0.2.54-py3-none-manylinux1_x86_64.whl (121.6 MB)\n",
            "\u001b[2K     \u001b[90m━━━━━━━━━━━━━━━━━━━━━━━━━━━━━━━━━━━━━━━━\u001b[0m \u001b[32m121.6/121.6 MB\u001b[0m \u001b[31m2.8 MB/s\u001b[0m eta \u001b[36m0:00:00\u001b[0m\n",
            "\u001b[?25hCollecting nvidia-curand-cu12==10.3.2.106 (from torch)\n",
            "  Downloading nvidia_curand_cu12-10.3.2.106-py3-none-manylinux1_x86_64.whl (56.5 MB)\n",
            "\u001b[2K     \u001b[90m━━━━━━━━━━━━━━━━━━━━━━━━━━━━━━━━━━━━━━━━\u001b[0m \u001b[32m56.5/56.5 MB\u001b[0m \u001b[31m2.9 MB/s\u001b[0m eta \u001b[36m0:00:00\u001b[0m\n",
            "\u001b[?25hCollecting nvidia-cusolver-cu12==11.4.5.107 (from torch)\n",
            "  Downloading nvidia_cusolver_cu12-11.4.5.107-py3-none-manylinux1_x86_64.whl (124.2 MB)\n",
            "\u001b[2K     \u001b[90m━━━━━━━━━━━━━━━━━━━━━━━━━━━━━━━━━━━━━━━━\u001b[0m \u001b[32m124.2/124.2 MB\u001b[0m \u001b[31m1.6 MB/s\u001b[0m eta \u001b[36m0:00:00\u001b[0m\n",
            "\u001b[?25hCollecting nvidia-cusparse-cu12==12.1.0.106 (from torch)\n",
            "  Downloading nvidia_cusparse_cu12-12.1.0.106-py3-none-manylinux1_x86_64.whl (196.0 MB)\n",
            "\u001b[2K     \u001b[90m━━━━━━━━━━━━━━━━━━━━━━━━━━━━━━━━━━━━━━━━\u001b[0m \u001b[32m196.0/196.0 MB\u001b[0m \u001b[31m2.4 MB/s\u001b[0m eta \u001b[36m0:00:00\u001b[0m\n",
            "\u001b[?25hCollecting nvidia-nccl-cu12==2.19.3 (from torch)\n",
            "  Downloading nvidia_nccl_cu12-2.19.3-py3-none-manylinux1_x86_64.whl (166.0 MB)\n",
            "\u001b[2K     \u001b[90m━━━━━━━━━━━━━━━━━━━━━━━━━━━━━━━━━━━━━━━━\u001b[0m \u001b[32m166.0/166.0 MB\u001b[0m \u001b[31m2.2 MB/s\u001b[0m eta \u001b[36m0:00:00\u001b[0m\n",
            "\u001b[?25hCollecting nvidia-nvtx-cu12==12.1.105 (from torch)\n",
            "  Downloading nvidia_nvtx_cu12-12.1.105-py3-none-manylinux1_x86_64.whl (99 kB)\n",
            "\u001b[2K     \u001b[90m━━━━━━━━━━━━━━━━━━━━━━━━━━━━━━━━━━━━━━━━\u001b[0m \u001b[32m99.1/99.1 kB\u001b[0m \u001b[31m4.4 MB/s\u001b[0m eta \u001b[36m0:00:00\u001b[0m\n",
            "\u001b[?25hRequirement already satisfied: triton==2.2.0 in /usr/local/lib/python3.10/dist-packages (from torch) (2.2.0)\n",
            "Collecting nvidia-nvjitlink-cu12 (from nvidia-cusolver-cu12==11.4.5.107->torch)\n",
            "  Downloading nvidia_nvjitlink_cu12-12.4.99-py3-none-manylinux2014_x86_64.whl (21.1 MB)\n",
            "\u001b[2K     \u001b[90m━━━━━━━━━━━━━━━━━━━━━━━━━━━━━━━━━━━━━━━━\u001b[0m \u001b[32m21.1/21.1 MB\u001b[0m \u001b[31m3.8 MB/s\u001b[0m eta \u001b[36m0:00:00\u001b[0m\n",
            "\u001b[?25hRequirement already satisfied: MarkupSafe>=2.0 in /usr/local/lib/python3.10/dist-packages (from jinja2->torch) (2.1.5)\n",
            "Requirement already satisfied: mpmath>=0.19 in /usr/local/lib/python3.10/dist-packages (from sympy->torch) (1.3.0)\n",
            "Installing collected packages: nvidia-nvtx-cu12, nvidia-nvjitlink-cu12, nvidia-nccl-cu12, nvidia-curand-cu12, nvidia-cufft-cu12, nvidia-cuda-runtime-cu12, nvidia-cuda-nvrtc-cu12, nvidia-cuda-cupti-cu12, nvidia-cublas-cu12, nvidia-cusparse-cu12, nvidia-cudnn-cu12, nvidia-cusolver-cu12\n",
            "Successfully installed nvidia-cublas-cu12-12.1.3.1 nvidia-cuda-cupti-cu12-12.1.105 nvidia-cuda-nvrtc-cu12-12.1.105 nvidia-cuda-runtime-cu12-12.1.105 nvidia-cudnn-cu12-8.9.2.26 nvidia-cufft-cu12-11.0.2.54 nvidia-curand-cu12-10.3.2.106 nvidia-cusolver-cu12-11.4.5.107 nvidia-cusparse-cu12-12.1.0.106 nvidia-nccl-cu12-2.19.3 nvidia-nvjitlink-cu12-12.4.99 nvidia-nvtx-cu12-12.1.105\n"
          ]
        }
      ]
    },
    {
      "cell_type": "markdown",
      "source": [
        "ニューロンの単体ユニット\n",
        "まずは複雑なニューラルネットワークに行く前に、単純な形状を学びます。ニューラルネットワークは脳の神経を単純化したニューロンと呼ばれるユニットがベースになっています。\n",
        "\n",
        "単一のニューロンの線形ユニットを見てみます。これは、\n",
        "\n",
        "$$\n",
        "𝑦=𝑤𝑥+𝑏\n",
        "$$\n",
        "\n",
        "とかけます。wを重みと言います。xは入力値。bはバイアスと呼ばれます。yは出力値です。単一のニューロンのユニットでは、wとxをかけてbを足すことで出力値が得られます。\n",
        "\n",
        "![../img/neuron01.jpg](../img/neuron01.jpg)"
      ],
      "metadata": {
        "id": "QhJwPIQFjaiV"
      }
    },
    {
      "cell_type": "markdown",
      "source": [
        "まずは通常のPythonコードでyの計算をしてみます。"
      ],
      "metadata": {
        "id": "NvYOVBjujrna"
      }
    },
    {
      "cell_type": "code",
      "source": [
        "x = 2\n",
        "w = 3\n",
        "b = 4\n",
        "\n",
        "y = w*x + b\n",
        "print(y)"
      ],
      "metadata": {
        "colab": {
          "base_uri": "https://localhost:8080/"
        },
        "id": "NFfM4Sq_jn5j",
        "outputId": "f05e1dbb-27f3-4903-9ee1-f18842df802f"
      },
      "execution_count": 2,
      "outputs": [
        {
          "output_type": "stream",
          "name": "stdout",
          "text": [
            "10\n"
          ]
        }
      ]
    },
    {
      "cell_type": "markdown",
      "source": [
        "x=2からy=10という値が出力されました。xの入力値を変更するとyが変化します。\n",
        "\n",
        "PyTorchをつかって計算をする際にはちょっと複雑です。"
      ],
      "metadata": {
        "id": "gOUMalutjvvL"
      }
    },
    {
      "cell_type": "code",
      "source": [
        "#ツールを\n",
        "import torch\n",
        "import torch.nn as nn\n",
        "\n",
        "#入力値xの個数を指定。今回はxひとつだけ使うので、1にします。\n",
        "num_input = 1\n",
        "\n",
        "#ニューロンの数を指定\n",
        "num_neuron = 1\n",
        "\n",
        "#単体ユニットを作る\n",
        "fc = nn.Linear(num_input, num_neuron)\n",
        "\n",
        "#wとbを設定します。ちょっと設定方法は難しいかもしれませんが今回は覚えてしまってください。\n",
        "fc.weight = nn.Parameter(torch.tensor([[3.]]))\n",
        "fc.bias = nn.Parameter(torch.tensor([4.]))\n",
        "\n",
        "#設定したwとbを確認します。\n",
        "print(fc.weight)\n",
        "print(fc.bias)\n",
        "b = 4\n",
        "\n",
        "y = w*x + b\n",
        "print(y)"
      ],
      "metadata": {
        "colab": {
          "base_uri": "https://localhost:8080/"
        },
        "id": "mQC-6uM-jtk0",
        "outputId": "f36c4629-e549-418b-f375-2f430e9e5d77"
      },
      "execution_count": 3,
      "outputs": [
        {
          "output_type": "stream",
          "name": "stdout",
          "text": [
            "Parameter containing:\n",
            "tensor([[3.]], requires_grad=True)\n",
            "Parameter containing:\n",
            "tensor([4.], requires_grad=True)\n",
            "10\n"
          ]
        }
      ]
    },
    {
      "cell_type": "markdown",
      "source": [
        "少し複雑でしたが、x=2を入れてみて計算をしてみましょう。xの設定もちょっと特殊ですが、今回は覚えてしまってください。"
      ],
      "metadata": {
        "id": "kmzdJwLJj0yY"
      }
    },
    {
      "cell_type": "code",
      "source": [
        "#xを決める\n",
        "x = torch.tensor([[2]], dtype=torch.float32)\n",
        "\n",
        "#yを計算する\n",
        "y = fc(x)\n",
        "print(y)"
      ],
      "metadata": {
        "colab": {
          "base_uri": "https://localhost:8080/"
        },
        "id": "5fTX1YCWjylb",
        "outputId": "c4feabf6-6130-498a-cbe9-aae9deaa13a6"
      },
      "execution_count": 4,
      "outputs": [
        {
          "output_type": "stream",
          "name": "stdout",
          "text": [
            "tensor([[10.]], grad_fn=<AddmmBackward0>)\n"
          ]
        }
      ]
    },
    {
      "cell_type": "markdown",
      "source": [
        "ということで、上の一部に10が見れました。これを少しずつ規模を大きくしていきます。"
      ],
      "metadata": {
        "id": "LzFjQ1unj33g"
      }
    },
    {
      "cell_type": "markdown",
      "source": [
        "## 1.2 ニューロンの単一ユニットで複数入力\n",
        "先ほどは入力のxはひとつだけを使いました。通常は複数の入力値を使います。例えば、入力の値を３つ用意し、𝑥0と𝑥1と𝑥2を準備します。かける𝑤も𝑤0と𝑤1と𝑤2の３つを用意します。bは入力が増えても一つのままです。\n",
        "\n",
        "$$\n",
        "𝑦=𝑤0∗𝑥0+𝑤1∗𝑥1+𝑤2∗𝑥2+𝑏\n",
        "$$\n",
        "\n",
        "![../img/neuron02.jpg](../img/neuron02.jpg)"
      ],
      "metadata": {
        "id": "rqC_hsrsj9LO"
      }
    },
    {
      "cell_type": "markdown",
      "source": [
        "まずは通常のPythonコードでyの計算をしてみます。"
      ],
      "metadata": {
        "id": "dbeMVev9k1in"
      }
    },
    {
      "cell_type": "code",
      "source": [
        "x0 = 2\n",
        "x1 = 3\n",
        "x2 = 4\n",
        "\n",
        "w0 = 5\n",
        "w1 = 6\n",
        "w2 = 7\n",
        "\n",
        "b = 8\n",
        "\n",
        "y = w0*x0 + w1*x1 + w2*x2 + b\n",
        "print(y)"
      ],
      "metadata": {
        "colab": {
          "base_uri": "https://localhost:8080/"
        },
        "id": "Tc6MknCUkzwI",
        "outputId": "5cc53484-4206-48c0-a43e-0fa50c3ce9a9"
      },
      "execution_count": 5,
      "outputs": [
        {
          "output_type": "stream",
          "name": "stdout",
          "text": [
            "64\n"
          ]
        }
      ]
    },
    {
      "cell_type": "markdown",
      "source": [
        "64という値が出力されました。 続いて同じ計算をPyTorchをつかって計算してみます。"
      ],
      "metadata": {
        "id": "uHOsgpmNk4wh"
      }
    },
    {
      "cell_type": "code",
      "source": [
        "#ツールを読み込み\n",
        "import torch\n",
        "import torch.nn as nn\n",
        "\n",
        "#入力値xの個数を3に設定\n",
        "num_input = 3\n",
        "\n",
        "#ニューロンの数を指定\n",
        "num_neuron = 1\n",
        "\n",
        "#単体ユニットを作る\n",
        "fc = nn.Linear(num_input, num_neuron)\n",
        "\n",
        "#wとbを設定します。今回wは三つ設定します。\n",
        "fc.weight = nn.Parameter(torch.tensor([[5.,6.,7.]]))\n",
        "fc.bias = nn.Parameter(torch.tensor([8.]))\n",
        "\n",
        "#xを決める。今回は2,3,4の三つを入れます。\n",
        "x = torch.tensor([[2,3,4]], dtype=torch.float32)\n",
        "\n",
        "#yを計算する\n",
        "y = fc(x)\n",
        "print(y)"
      ],
      "metadata": {
        "colab": {
          "base_uri": "https://localhost:8080/"
        },
        "id": "3shKp9OYk260",
        "outputId": "1053dc3f-202f-4e91-81d4-de3d038dbcae"
      },
      "execution_count": 6,
      "outputs": [
        {
          "output_type": "stream",
          "name": "stdout",
          "text": [
            "tensor([[64.]], grad_fn=<AddmmBackward0>)\n"
          ]
        }
      ]
    },
    {
      "cell_type": "markdown",
      "source": [
        "同じように答え64が得られました。次はもっと規模を大きくしてみます。"
      ],
      "metadata": {
        "id": "khA1BijnlC8V"
      }
    },
    {
      "cell_type": "markdown",
      "source": [
        "## 1.3 単一レイヤー\n",
        "これまで入力は複数で、ニューロンはひとつでした。入力の数を変更せずに、ニューロンの数を二つに増やしてみます。そうすると重みwが増えます。\n",
        "\n",
        "$$\n",
        "𝑦0=𝑤00∗𝑥0+𝑤10∗𝑥1+𝑤20∗𝑥2+𝑏\n",
        "$$\n",
        "\n",
        "$$\n",
        "𝑦1=𝑤01∗𝑥0+𝑤11∗𝑥1+𝑤21∗𝑥2+𝑏\n",
        "$$\n",
        "\n",
        "![../img/neuron03.jpg](../img/neuron03.jpg)\n",
        "\n",
        "まずは通常のPythonコードでyの計算をしてみます。"
      ],
      "metadata": {
        "id": "EUrmWZM8lnM5"
      }
    },
    {
      "cell_type": "code",
      "source": [
        "x0 = 1\n",
        "x1 = 2\n",
        "x2 = 3\n",
        "\n",
        "w00 = 4\n",
        "w10 = 5\n",
        "w20 = 6\n",
        "\n",
        "w01 = 7\n",
        "w11 = 8\n",
        "w21 = 9\n",
        "\n",
        "b = 10\n",
        "\n",
        "y0 = w00*x0 + w10*x1 + w20*x2 + b\n",
        "print(\"y0=\", y0)\n",
        "\n",
        "y1 = w01*x0 + w11*x1 + w21*x2 + b\n",
        "print(\"y1=\", y1)"
      ],
      "metadata": {
        "colab": {
          "base_uri": "https://localhost:8080/"
        },
        "id": "P6uuwIhqlAa4",
        "outputId": "f1af984b-0b74-4e02-e2b4-bfff70977a6e"
      },
      "execution_count": 7,
      "outputs": [
        {
          "output_type": "stream",
          "name": "stdout",
          "text": [
            "y0= 42\n",
            "y1= 60\n"
          ]
        }
      ]
    },
    {
      "cell_type": "markdown",
      "source": [
        "y0は42。y1は60の値となりました。同様にPyTorchで行ってみます。"
      ],
      "metadata": {
        "id": "-1vAQ9D4p_ji"
      }
    },
    {
      "cell_type": "code",
      "source": [
        "#ツールを読み込み\n",
        "import torch\n",
        "import torch.nn as nn\n",
        "\n",
        "#入力値xの個数を3に設定\n",
        "num_input = 3\n",
        "\n",
        "#ニューロンの数を2に変更\n",
        "num_neuron = 2\n",
        "\n",
        "#単体ユニットを作る\n",
        "fc = nn.Linear(num_input, num_neuron)\n",
        "\n",
        "#wとbを設定します。今回wは三つ設定します。\n",
        "fc.weight = nn.Parameter(torch.tensor([[4.,5.,6.],[7.,8.,9.]]))\n",
        "fc.bias = nn.Parameter(torch.tensor([10.]))\n",
        "\n",
        "#xを決める。今回は1,2,3の三つを入れます。\n",
        "x = torch.tensor([[1,2,3]], dtype=torch.float32)\n",
        "\n",
        "#yを計算する\n",
        "y = fc(x)\n",
        "print(y)"
      ],
      "metadata": {
        "colab": {
          "base_uri": "https://localhost:8080/"
        },
        "id": "auiPaCb6p9s2",
        "outputId": "534ba7b8-1158-419f-b914-4ebf0e682807"
      },
      "execution_count": 8,
      "outputs": [
        {
          "output_type": "stream",
          "name": "stdout",
          "text": [
            "tensor([[42., 60.]], grad_fn=<AddmmBackward0>)\n"
          ]
        }
      ]
    },
    {
      "cell_type": "markdown",
      "source": [
        "先ほどと同じように、42と60が得られました。このように複数のニューロンを同時に計算する場合、一つのレイヤーとして扱います。"
      ],
      "metadata": {
        "id": "rIj1W2cLqDGk"
      }
    }
  ]
}