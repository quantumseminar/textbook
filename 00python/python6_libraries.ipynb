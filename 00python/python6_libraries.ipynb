{
  "nbformat": 4,
  "nbformat_minor": 0,
  "metadata": {
    "colab": {
      "provenance": [],
      "include_colab_link": true
    },
    "kernelspec": {
      "name": "python3",
      "display_name": "Python 3"
    },
    "language_info": {
      "name": "python"
    }
  },
  "cells": [
    {
      "cell_type": "markdown",
      "metadata": {
        "id": "view-in-github",
        "colab_type": "text"
      },
      "source": [
        "<a href=\"https://colab.research.google.com/github/quantumseminar/textbook/blob/main/00python/python6_libraries.ipynb\" target=\"_parent\"><img src=\"https://colab.research.google.com/assets/colab-badge.svg\" alt=\"Open In Colab\"/></a>"
      ]
    },
    {
      "cell_type": "markdown",
      "source": [
        "## 外部のライブラリを利用する\n",
        "Pythonの標準機能だけでは本格的な計算をするには足りませんので、外部ライブラリを利用します。外部ライブラリはPythonに準拠した形で提供されるソフトウェアのようなもので、各分野のさまざまなライブラリを使い分けて今後計算を行います。\n",
        "\n",
        "例えばmathライブラリには各種数値計算を補助するものが入っています。\n",
        "円周率を取り出してみます。\n"
      ],
      "metadata": {
        "id": "RvaqYb2JFhUX"
      }
    },
    {
      "cell_type": "code",
      "execution_count": null,
      "metadata": {
        "id": "Z0uhmJSMzMxX",
        "colab": {
          "base_uri": "https://localhost:8080/"
        },
        "outputId": "a9e5e02a-9549-418f-dc90-113c1a6d4a6c"
      },
      "outputs": [
        {
          "output_type": "stream",
          "name": "stdout",
          "text": [
            "3.141592653589793\n"
          ]
        }
      ],
      "source": [
        "import math\n",
        "print(math.pi)"
      ]
    },
    {
      "cell_type": "markdown",
      "source": [
        "numpy（ナムパイ）もかなり重要なライブラリです。毎回numpyを呼び出すたびにnumpyを書くのは大変なので、通例的にimport numpy as npと書くと、npだけで呼び出せます。"
      ],
      "metadata": {
        "id": "mzKaw2qsHNtO"
      }
    },
    {
      "cell_type": "code",
      "source": [
        "import numpy as np\n",
        "print(np.pi)"
      ],
      "metadata": {
        "colab": {
          "base_uri": "https://localhost:8080/"
        },
        "id": "ryC7dEEQHJlZ",
        "outputId": "e66f1022-6020-4e71-9a88-88aacf992e3f"
      },
      "execution_count": null,
      "outputs": [
        {
          "output_type": "stream",
          "name": "stdout",
          "text": [
            "3.141592653589793\n"
          ]
        }
      ]
    },
    {
      "cell_type": "markdown",
      "source": [
        "乱数というバラバラな数もたくさん利用します。"
      ],
      "metadata": {
        "id": "n4lcPljHIi5-"
      }
    },
    {
      "cell_type": "code",
      "source": [
        "print(np.random.rand())"
      ],
      "metadata": {
        "id": "Lbj2z4c7HX4L",
        "colab": {
          "base_uri": "https://localhost:8080/"
        },
        "outputId": "da76d673-8554-4528-da64-64be78247462"
      },
      "execution_count": null,
      "outputs": [
        {
          "output_type": "stream",
          "name": "stdout",
          "text": [
            "0.9227256496830297\n"
          ]
        }
      ]
    },
    {
      "cell_type": "markdown",
      "source": [
        "sympy（シムパイ）では式展開や代入などに利用できます。"
      ],
      "metadata": {
        "id": "BpHBB2TgKx7R"
      }
    },
    {
      "cell_type": "code",
      "source": [
        "import sympy\n",
        "\n",
        "#変数を作る\n",
        "x = sympy.Symbol('x')\n",
        "\n",
        "#式を作る\n",
        "eq = (x + 1)**2\n",
        "\n",
        "print(sympy.expand(eq))"
      ],
      "metadata": {
        "colab": {
          "base_uri": "https://localhost:8080/"
        },
        "id": "Z-q4BW4_K9FF",
        "outputId": "e20cb4f3-7184-41b5-9d76-6e83bdc60b62"
      },
      "execution_count": null,
      "outputs": [
        {
          "output_type": "stream",
          "name": "stdout",
          "text": [
            "x**2 + 2*x + 1\n"
          ]
        }
      ]
    },
    {
      "cell_type": "code",
      "source": [
        "eq.subs('x',2)"
      ],
      "metadata": {
        "colab": {
          "base_uri": "https://localhost:8080/",
          "height": 37
        },
        "id": "khY1_5kOLBgv",
        "outputId": "987d053c-2fe3-43c3-c588-d9dedf195cfd"
      },
      "execution_count": null,
      "outputs": [
        {
          "output_type": "execute_result",
          "data": {
            "text/plain": [
              "9"
            ],
            "text/latex": "$\\displaystyle 9$"
          },
          "metadata": {},
          "execution_count": 8
        }
      ]
    },
    {
      "cell_type": "code",
      "source": [],
      "metadata": {
        "id": "ctAZGfOYLWN1"
      },
      "execution_count": null,
      "outputs": []
    }
  ]
}