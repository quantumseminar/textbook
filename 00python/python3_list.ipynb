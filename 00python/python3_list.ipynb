{
  "nbformat": 4,
  "nbformat_minor": 0,
  "metadata": {
    "colab": {
      "provenance": [],
      "include_colab_link": true
    },
    "kernelspec": {
      "name": "python3",
      "display_name": "Python 3"
    },
    "language_info": {
      "name": "python"
    }
  },
  "cells": [
    {
      "cell_type": "markdown",
      "metadata": {
        "id": "view-in-github",
        "colab_type": "text"
      },
      "source": [
        "<a href=\"https://colab.research.google.com/github/quantumseminar/textbook/blob/main/00python/python3_list.ipynb\" target=\"_parent\"><img src=\"https://colab.research.google.com/assets/colab-badge.svg\" alt=\"Open In Colab\"/></a>"
      ]
    },
    {
      "cell_type": "markdown",
      "source": [
        "## リスト\n",
        "リストは順番を持つ配列となっています。カギカッコの中にカンマで区切って入れます。"
      ],
      "metadata": {
        "id": "RvaqYb2JFhUX"
      }
    },
    {
      "cell_type": "code",
      "execution_count": null,
      "metadata": {
        "id": "Z0uhmJSMzMxX",
        "colab": {
          "base_uri": "https://localhost:8080/"
        },
        "outputId": "b8e27d18-2c27-45f1-d13d-7497c82f8bcc"
      },
      "outputs": [
        {
          "output_type": "stream",
          "name": "stdout",
          "text": [
            "[0, 1, 2, 3, 4, 5]\n"
          ]
        }
      ],
      "source": [
        "num = [0,1,2,3,4,5]\n",
        "print(num)"
      ]
    },
    {
      "cell_type": "markdown",
      "source": [
        "リストには文字列を入れることもできます。"
      ],
      "metadata": {
        "id": "mzKaw2qsHNtO"
      }
    },
    {
      "cell_type": "code",
      "source": [
        "youbi = [\"月\", \"火\", \"水\", \"木\", \"金\", \"土\", \"日\"]\n",
        "print(youbi)"
      ],
      "metadata": {
        "colab": {
          "base_uri": "https://localhost:8080/"
        },
        "id": "ryC7dEEQHJlZ",
        "outputId": "0c4b5afc-4572-4c37-b88e-77af8627fc1b"
      },
      "execution_count": null,
      "outputs": [
        {
          "output_type": "stream",
          "name": "stdout",
          "text": [
            "['月', '火', '水', '木', '金', '土', '日']\n"
          ]
        }
      ]
    },
    {
      "cell_type": "markdown",
      "source": [
        "二次元配列と言って、配列の中に配列を入れることもできます。\n"
      ],
      "metadata": {
        "id": "n4lcPljHIi5-"
      }
    },
    {
      "cell_type": "code",
      "source": [
        "qubo = [[1,2,3],[4,5,6],[7,8,9]]\n",
        "print(qubo)"
      ],
      "metadata": {
        "id": "Lbj2z4c7HX4L",
        "colab": {
          "base_uri": "https://localhost:8080/"
        },
        "outputId": "f99e7a7c-1b4e-48e0-fc9a-e1934dfde747"
      },
      "execution_count": null,
      "outputs": [
        {
          "output_type": "stream",
          "name": "stdout",
          "text": [
            "[[1, 2, 3], [4, 5, 6], [7, 8, 9]]\n"
          ]
        }
      ]
    },
    {
      "cell_type": "markdown",
      "source": [
        "## リストの取り出し\n",
        "リスト内部の要素を取り出すには、0から始まる順番を前から指定します。"
      ],
      "metadata": {
        "id": "W81RuBD6NT5s"
      }
    },
    {
      "cell_type": "code",
      "source": [
        "num[0]"
      ],
      "metadata": {
        "colab": {
          "base_uri": "https://localhost:8080/"
        },
        "id": "JtlG_Gm_NRh_",
        "outputId": "c513635d-77a8-4dfd-a8fc-2a44c5c2901a"
      },
      "execution_count": null,
      "outputs": [
        {
          "output_type": "execute_result",
          "data": {
            "text/plain": [
              "0"
            ]
          },
          "metadata": {},
          "execution_count": 16
        }
      ]
    },
    {
      "cell_type": "markdown",
      "source": [
        "0番目の最初の要素が取り出されました。"
      ],
      "metadata": {
        "id": "RjmrXxbzN5EM"
      }
    },
    {
      "cell_type": "code",
      "source": [
        "num[1]"
      ],
      "metadata": {
        "id": "5SXjMfHRN1hW",
        "colab": {
          "base_uri": "https://localhost:8080/"
        },
        "outputId": "73fb023e-2b14-4150-d3e9-d077715f3a4d"
      },
      "execution_count": null,
      "outputs": [
        {
          "output_type": "execute_result",
          "data": {
            "text/plain": [
              "1"
            ]
          },
          "metadata": {},
          "execution_count": 17
        }
      ]
    },
    {
      "cell_type": "markdown",
      "source": [
        "他のリストでもやってみます。"
      ],
      "metadata": {
        "id": "jNomaJ3JOFq2"
      }
    },
    {
      "cell_type": "code",
      "source": [
        "youbi[3]"
      ],
      "metadata": {
        "id": "H3Llng6LOErk",
        "colab": {
          "base_uri": "https://localhost:8080/",
          "height": 35
        },
        "outputId": "1622bba1-fbd3-48b6-e833-b0945f4e218f"
      },
      "execution_count": null,
      "outputs": [
        {
          "output_type": "execute_result",
          "data": {
            "text/plain": [
              "'木'"
            ],
            "application/vnd.google.colaboratory.intrinsic+json": {
              "type": "string"
            }
          },
          "metadata": {},
          "execution_count": 18
        }
      ]
    },
    {
      "cell_type": "markdown",
      "source": [
        "マイナスを入れると後ろから数えて取り出せます。"
      ],
      "metadata": {
        "id": "K1AXgizR3_JY"
      }
    },
    {
      "cell_type": "code",
      "source": [
        "num[-1]"
      ],
      "metadata": {
        "colab": {
          "base_uri": "https://localhost:8080/"
        },
        "id": "wuZgsXllc4Kj",
        "outputId": "6c87e8d9-5c13-4461-eeff-3b6c858e2df8"
      },
      "execution_count": null,
      "outputs": [
        {
          "output_type": "execute_result",
          "data": {
            "text/plain": [
              "5"
            ]
          },
          "metadata": {},
          "execution_count": 19
        }
      ]
    },
    {
      "cell_type": "code",
      "source": [
        "youbi[-2]"
      ],
      "metadata": {
        "colab": {
          "base_uri": "https://localhost:8080/",
          "height": 35
        },
        "id": "LKTqNuZQc6Y_",
        "outputId": "00e1c4ed-aede-4cd8-836c-a50de1a0ff2f"
      },
      "execution_count": null,
      "outputs": [
        {
          "output_type": "execute_result",
          "data": {
            "text/plain": [
              "'土'"
            ],
            "application/vnd.google.colaboratory.intrinsic+json": {
              "type": "string"
            }
          },
          "metadata": {},
          "execution_count": 48
        }
      ]
    },
    {
      "cell_type": "markdown",
      "source": [
        "## リストのスライス記号\n",
        "スライス記号を使うことで、特定の範囲を指定できます。下記のように0:2のように感までつなげると0-1番目の値が取り出されます。"
      ],
      "metadata": {
        "id": "GR6CuoL_vjJw"
      }
    },
    {
      "cell_type": "code",
      "source": [
        "num[0:2]"
      ],
      "metadata": {
        "colab": {
          "base_uri": "https://localhost:8080/"
        },
        "id": "giRLs1Cnc965",
        "outputId": "d52bf93d-a9a2-4607-d26a-1f9e7a7c520b"
      },
      "execution_count": null,
      "outputs": [
        {
          "output_type": "execute_result",
          "data": {
            "text/plain": [
              "[0, 1]"
            ]
          },
          "metadata": {},
          "execution_count": 21
        }
      ]
    },
    {
      "cell_type": "markdown",
      "source": [
        "スライス記号の片方の数字を省略することもできます。"
      ],
      "metadata": {
        "id": "8AXR-AjhwOzP"
      }
    },
    {
      "cell_type": "code",
      "source": [
        "num[:3]"
      ],
      "metadata": {
        "colab": {
          "base_uri": "https://localhost:8080/"
        },
        "id": "FZy7YYkSWgfW",
        "outputId": "a1f8ec10-5597-45e5-9d70-488a640e5831"
      },
      "execution_count": null,
      "outputs": [
        {
          "output_type": "execute_result",
          "data": {
            "text/plain": [
              "[0, 1, 2]"
            ]
          },
          "metadata": {},
          "execution_count": 22
        }
      ]
    },
    {
      "cell_type": "code",
      "source": [
        "num[1:]"
      ],
      "metadata": {
        "colab": {
          "base_uri": "https://localhost:8080/"
        },
        "id": "dmCM9kaEdBpI",
        "outputId": "bd3b5b8d-43d9-4f49-bbaa-393f96bf6abb"
      },
      "execution_count": null,
      "outputs": [
        {
          "output_type": "execute_result",
          "data": {
            "text/plain": [
              "[1, 2, 3, 4, 5]"
            ]
          },
          "metadata": {},
          "execution_count": 23
        }
      ]
    },
    {
      "cell_type": "markdown",
      "source": [
        "逆側からも実行できます。\n"
      ],
      "metadata": {
        "id": "PHl9PvvZSqrB"
      }
    },
    {
      "cell_type": "code",
      "source": [
        "num[-2:]"
      ],
      "metadata": {
        "colab": {
          "base_uri": "https://localhost:8080/"
        },
        "id": "tEhpOJFOdFBx",
        "outputId": "bed3dde2-b9ac-42e7-92a0-405e1ee20c34"
      },
      "execution_count": null,
      "outputs": [
        {
          "output_type": "execute_result",
          "data": {
            "text/plain": [
              "[4, 5]"
            ]
          },
          "metadata": {},
          "execution_count": 24
        }
      ]
    },
    {
      "cell_type": "markdown",
      "source": [
        "## リストの置換・追加\n",
        "リストの要素を入れ替えるには、順番を指定して入れ替えることができます。\n",
        "numのリストの最初の要素を0から6にしてみます。"
      ],
      "metadata": {
        "id": "3efV50aNw_3T"
      }
    },
    {
      "cell_type": "code",
      "source": [
        "num[0] = 6\n",
        "print(num)"
      ],
      "metadata": {
        "colab": {
          "base_uri": "https://localhost:8080/"
        },
        "id": "-Z6zmYNWdL0J",
        "outputId": "5ab2b91b-bc0f-4110-cb6f-13344eaa6ef0"
      },
      "execution_count": null,
      "outputs": [
        {
          "output_type": "stream",
          "name": "stdout",
          "text": [
            "[6, 1, 2, 3, 4, 5]\n"
          ]
        }
      ]
    },
    {
      "cell_type": "markdown",
      "source": [
        "0が6に上書きされました。リストの最後に要素を追加するには.appendを利用します。"
      ],
      "metadata": {
        "id": "9pHqxpoGTNN5"
      }
    },
    {
      "cell_type": "code",
      "source": [
        "num.append(7)\n",
        "print(num)"
      ],
      "metadata": {
        "colab": {
          "base_uri": "https://localhost:8080/"
        },
        "id": "l7AAyERMxSJr",
        "outputId": "8966c71d-c926-49fb-e10f-02cde63ebeb1"
      },
      "execution_count": null,
      "outputs": [
        {
          "output_type": "stream",
          "name": "stdout",
          "text": [
            "[6, 1, 2, 3, 4, 5, 7]\n"
          ]
        }
      ]
    },
    {
      "cell_type": "markdown",
      "source": [
        "## リストの関数\n",
        "よく利用する関数をまとめます。\n",
        "\n",
        "len()はリストの要素の数（長さ）を数えます。"
      ],
      "metadata": {
        "id": "21J1dBsEyOFH"
      }
    },
    {
      "cell_type": "code",
      "source": [
        "len(num)"
      ],
      "metadata": {
        "colab": {
          "base_uri": "https://localhost:8080/"
        },
        "id": "5denyRuiyH3p",
        "outputId": "42e283ad-0cfa-4b27-bcdd-9a1562b3e11b"
      },
      "execution_count": null,
      "outputs": [
        {
          "output_type": "execute_result",
          "data": {
            "text/plain": [
              "7"
            ]
          },
          "metadata": {},
          "execution_count": 27
        }
      ]
    },
    {
      "cell_type": "markdown",
      "source": [
        "sorted()はリストを並べ替えます。\n"
      ],
      "metadata": {
        "id": "ubxvAhenyZI2"
      }
    },
    {
      "cell_type": "code",
      "source": [
        "sorted(num)"
      ],
      "metadata": {
        "colab": {
          "base_uri": "https://localhost:8080/"
        },
        "id": "JUpKlNPBySVW",
        "outputId": "0cfe709a-d960-4699-db84-bc7558af2587"
      },
      "execution_count": null,
      "outputs": [
        {
          "output_type": "execute_result",
          "data": {
            "text/plain": [
              "[1, 2, 3, 4, 5, 6, 7]"
            ]
          },
          "metadata": {},
          "execution_count": 29
        }
      ]
    },
    {
      "cell_type": "markdown",
      "source": [
        "元のリストnumは変化していません。"
      ],
      "metadata": {
        "id": "xcezvBcdyjJT"
      }
    },
    {
      "cell_type": "code",
      "source": [
        "num"
      ],
      "metadata": {
        "colab": {
          "base_uri": "https://localhost:8080/"
        },
        "id": "pXT5iwzRyeWc",
        "outputId": "573b537c-0bf3-4959-e7c7-a4e7e2b1fa41"
      },
      "execution_count": null,
      "outputs": [
        {
          "output_type": "execute_result",
          "data": {
            "text/plain": [
              "[6, 1, 2, 3, 4, 5, 7]"
            ]
          },
          "metadata": {},
          "execution_count": 30
        }
      ]
    },
    {
      "cell_type": "markdown",
      "source": [
        "sumでリスト内部の要素の合計を求めます。"
      ],
      "metadata": {
        "id": "Jx5990xzynWJ"
      }
    },
    {
      "cell_type": "code",
      "source": [
        "sum(num)"
      ],
      "metadata": {
        "colab": {
          "base_uri": "https://localhost:8080/"
        },
        "id": "DtLsNwUgygtQ",
        "outputId": "53ca229a-074b-4119-8a1a-8939e3d8e153"
      },
      "execution_count": null,
      "outputs": [
        {
          "output_type": "execute_result",
          "data": {
            "text/plain": [
              "28"
            ]
          },
          "metadata": {},
          "execution_count": 31
        }
      ]
    },
    {
      "cell_type": "markdown",
      "source": [
        "maxでリスト内部の最大の要素を探します。"
      ],
      "metadata": {
        "id": "QReVt2Szys0H"
      }
    },
    {
      "cell_type": "code",
      "source": [
        "max(num)"
      ],
      "metadata": {
        "colab": {
          "base_uri": "https://localhost:8080/"
        },
        "id": "WyfGaBVvyqxO",
        "outputId": "7258240a-5a6c-4eb3-cab9-8c4b6a3961ca"
      },
      "execution_count": null,
      "outputs": [
        {
          "output_type": "execute_result",
          "data": {
            "text/plain": [
              "7"
            ]
          },
          "metadata": {},
          "execution_count": 33
        }
      ]
    },
    {
      "cell_type": "markdown",
      "source": [
        "## リスト同士の結合\n",
        "リスト同士をつなげることもできます。今回は+記号を使って結合します。"
      ],
      "metadata": {
        "id": "CEQNPvrly0sw"
      }
    },
    {
      "cell_type": "code",
      "source": [
        "num1 = [0,1,2]\n",
        "num2 = [3,4,5]\n",
        "\n",
        "print(num1 + num2)"
      ],
      "metadata": {
        "colab": {
          "base_uri": "https://localhost:8080/"
        },
        "id": "F6zAbzcLyvVm",
        "outputId": "6987cb96-7081-495c-f595-e64d98479a52"
      },
      "execution_count": null,
      "outputs": [
        {
          "output_type": "stream",
          "name": "stdout",
          "text": [
            "[0, 1, 2, 3, 4, 5]\n"
          ]
        }
      ]
    },
    {
      "cell_type": "markdown",
      "source": [
        "## タプル\n",
        "リストに似ていますが、要素の追加や変更ができないタプルというのがあります。丸括弧で指定します。"
      ],
      "metadata": {
        "id": "kkFrMwEdzh4V"
      }
    },
    {
      "cell_type": "code",
      "source": [
        "t = (1,2,3)\n",
        "print(t)"
      ],
      "metadata": {
        "colab": {
          "base_uri": "https://localhost:8080/"
        },
        "id": "MVqvYEIYy7Ez",
        "outputId": "bd4f0ace-c221-40ba-a1c5-fd94f1039317"
      },
      "execution_count": null,
      "outputs": [
        {
          "output_type": "stream",
          "name": "stdout",
          "text": [
            "(1, 2, 3)\n"
          ]
        }
      ]
    },
    {
      "cell_type": "markdown",
      "source": [
        "要素の取り出しはリストと同じです。"
      ],
      "metadata": {
        "id": "JoxW1nbl0skx"
      }
    },
    {
      "cell_type": "code",
      "source": [
        "print(t[0])"
      ],
      "metadata": {
        "colab": {
          "base_uri": "https://localhost:8080/"
        },
        "id": "X-W5caZwzqey",
        "outputId": "ff0919a0-ceab-42f5-c867-935901bb51bc"
      },
      "execution_count": null,
      "outputs": [
        {
          "output_type": "stream",
          "name": "stdout",
          "text": [
            "1\n"
          ]
        }
      ]
    },
    {
      "cell_type": "markdown",
      "source": [
        "ただし、要素の入れ替えなどができません。"
      ],
      "metadata": {
        "id": "2-uzpIcv0wQZ"
      }
    },
    {
      "cell_type": "code",
      "source": [
        "t[0] = 4"
      ],
      "metadata": {
        "colab": {
          "base_uri": "https://localhost:8080/",
          "height": 186
        },
        "id": "3q11KQdf0gkg",
        "outputId": "744c6c50-ae18-433d-979c-0b4cb72fe8f0"
      },
      "execution_count": null,
      "outputs": [
        {
          "output_type": "error",
          "ename": "TypeError",
          "evalue": "ignored",
          "traceback": [
            "\u001b[0;31m---------------------------------------------------------------------------\u001b[0m",
            "\u001b[0;31mTypeError\u001b[0m                                 Traceback (most recent call last)",
            "\u001b[0;32m<ipython-input-40-08a0409f2124>\u001b[0m in \u001b[0;36m<cell line: 1>\u001b[0;34m()\u001b[0m\n\u001b[0;32m----> 1\u001b[0;31m \u001b[0mt\u001b[0m\u001b[0;34m[\u001b[0m\u001b[0;36m0\u001b[0m\u001b[0;34m]\u001b[0m \u001b[0;34m=\u001b[0m \u001b[0;36m4\u001b[0m\u001b[0;34m\u001b[0m\u001b[0;34m\u001b[0m\u001b[0m\n\u001b[0m",
            "\u001b[0;31mTypeError\u001b[0m: 'tuple' object does not support item assignment"
          ]
        }
      ]
    },
    {
      "cell_type": "markdown",
      "source": [
        "## 辞書\n",
        "リストやタプル以外に辞書があります。辞書はkey（キー）とvalue（バリュー）という二つの値を使ってデータを扱います。中括弧のなかに、keyとvalueをセットにして、カンマで繋ぎます。"
      ],
      "metadata": {
        "id": "x-qx8QHL1TYz"
      }
    },
    {
      "cell_type": "code",
      "source": [
        "nums = {'one':1, 'two':2, 'three':3}\n",
        "print(nums)"
      ],
      "metadata": {
        "colab": {
          "base_uri": "https://localhost:8080/"
        },
        "id": "RDC5y9sp0k2j",
        "outputId": "e0d9c235-2e29-4a47-fdb2-36e085c3ec2e"
      },
      "execution_count": null,
      "outputs": [
        {
          "output_type": "stream",
          "name": "stdout",
          "text": [
            "{'one': 1, 'two': 2, 'three': 3}\n"
          ]
        }
      ]
    },
    {
      "cell_type": "markdown",
      "source": [
        "値を取り出すときは、keyを指定します。"
      ],
      "metadata": {
        "id": "66f50O0s16aB"
      }
    },
    {
      "cell_type": "code",
      "source": [
        "print(nums['one'])"
      ],
      "metadata": {
        "colab": {
          "base_uri": "https://localhost:8080/"
        },
        "id": "PTW792Y216J8",
        "outputId": "fb0807f6-0a3e-4e86-d386-e1075e518e3c"
      },
      "execution_count": null,
      "outputs": [
        {
          "output_type": "stream",
          "name": "stdout",
          "text": [
            "1\n"
          ]
        }
      ]
    },
    {
      "cell_type": "markdown",
      "source": [
        "値を置き換える場合には、keyを指定してvalueを変更します。"
      ],
      "metadata": {
        "id": "RER544TM1_7d"
      }
    },
    {
      "cell_type": "code",
      "source": [
        "nums['two'] = 7\n",
        "print(nums)"
      ],
      "metadata": {
        "colab": {
          "base_uri": "https://localhost:8080/"
        },
        "id": "3ma4eTqD1kDL",
        "outputId": "4c48839e-fea7-494b-d5d9-93ff1fa73d2a"
      },
      "execution_count": null,
      "outputs": [
        {
          "output_type": "stream",
          "name": "stdout",
          "text": [
            "{'one': 1, 'two': 7, 'three': 3}\n"
          ]
        }
      ]
    },
    {
      "cell_type": "markdown",
      "source": [
        "要素の追加もkeyとvalueを指定すれば可能です。"
      ],
      "metadata": {
        "id": "ipi5LIu82UUJ"
      }
    },
    {
      "cell_type": "code",
      "source": [
        "nums['four'] = 4\n",
        "print(nums)"
      ],
      "metadata": {
        "colab": {
          "base_uri": "https://localhost:8080/"
        },
        "id": "2GGnBIY72Fg3",
        "outputId": "6a362d3f-cb80-42e0-fe70-f77f43cb8ca2"
      },
      "execution_count": null,
      "outputs": [
        {
          "output_type": "stream",
          "name": "stdout",
          "text": [
            "{'one': 1, 'two': 7, 'three': 3, 'four': 4}\n"
          ]
        }
      ]
    },
    {
      "cell_type": "markdown",
      "source": [
        "今回はデータの扱い方を3種類確認しました。"
      ],
      "metadata": {
        "id": "lp-WZeC52b3Y"
      }
    }
  ]
}