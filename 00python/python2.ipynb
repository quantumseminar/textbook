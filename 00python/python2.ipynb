{
  "nbformat": 4,
  "nbformat_minor": 0,
  "metadata": {
    "colab": {
      "provenance": [],
      "include_colab_link": true
    },
    "kernelspec": {
      "name": "python3",
      "display_name": "Python 3"
    },
    "language_info": {
      "name": "python"
    }
  },
  "cells": [
    {
      "cell_type": "markdown",
      "metadata": {
        "id": "view-in-github",
        "colab_type": "text"
      },
      "source": [
        "<a href=\"https://colab.research.google.com/github/quantumseminar/textbook/blob/main/00python/python2.ipynb\" target=\"_parent\"><img src=\"https://colab.research.google.com/assets/colab-badge.svg\" alt=\"Open In Colab\"/></a>"
      ]
    },
    {
      "cell_type": "markdown",
      "source": [
        "## 関数\n",
        "関数を宣言することで、ひとまとめの処理をいつでも呼び出すことができます。簡単な関数を作ってみます。"
      ],
      "metadata": {
        "id": "RvaqYb2JFhUX"
      }
    },
    {
      "cell_type": "code",
      "execution_count": null,
      "metadata": {
        "id": "Z0uhmJSMzMxX"
      },
      "outputs": [],
      "source": [
        "def add(a, b):\n",
        "  c = a + b\n",
        "  return c"
      ]
    },
    {
      "cell_type": "markdown",
      "source": [
        "この関数はaとbを入れるとそれを足した値を返してくれます。\n",
        "aとbを「引数（ひきすう）」といいます。\n",
        "戻ってくる値を「戻り値（もどりち）」\n",
        "\n",
        "試しに、aに2をbに3を入れてみます。"
      ],
      "metadata": {
        "id": "mzKaw2qsHNtO"
      }
    },
    {
      "cell_type": "code",
      "source": [
        "print(add(2,3))"
      ],
      "metadata": {
        "colab": {
          "base_uri": "https://localhost:8080/"
        },
        "id": "ryC7dEEQHJlZ",
        "outputId": "d6dd311d-940d-46ba-e1af-1538cb722c4d"
      },
      "execution_count": null,
      "outputs": [
        {
          "output_type": "stream",
          "name": "stdout",
          "text": [
            "5\n"
          ]
        }
      ]
    },
    {
      "cell_type": "markdown",
      "source": [
        "答えとして5が戻ってきました。別の数字を入れてみると、\n",
        "\n"
      ],
      "metadata": {
        "id": "n4lcPljHIi5-"
      }
    },
    {
      "cell_type": "code",
      "source": [
        "print(add(5,7))"
      ],
      "metadata": {
        "id": "Lbj2z4c7HX4L",
        "colab": {
          "base_uri": "https://localhost:8080/"
        },
        "outputId": "d54310d8-e657-4e2a-d88d-23a6c02ef769"
      },
      "execution_count": null,
      "outputs": [
        {
          "output_type": "stream",
          "name": "stdout",
          "text": [
            "12\n"
          ]
        }
      ]
    },
    {
      "cell_type": "markdown",
      "source": [
        "異なる答えが戻ってきました。より複雑な処理を入れることで繰り返し行う処理を効率化できます。"
      ],
      "metadata": {
        "id": "W81RuBD6NT5s"
      }
    },
    {
      "cell_type": "markdown",
      "source": [
        "## ブーリアン\n",
        "論理式というものを使うことによりさまざまな処理ができます。ブーリアンはTrueもしくはFalseを取ります。"
      ],
      "metadata": {
        "id": "CHnq4TOkPyTa"
      }
    },
    {
      "cell_type": "code",
      "source": [
        "x = True\n",
        "print(x)\n",
        "print(type(x))"
      ],
      "metadata": {
        "colab": {
          "base_uri": "https://localhost:8080/"
        },
        "id": "JtlG_Gm_NRh_",
        "outputId": "af127137-1130-4964-9ad5-1e175791b9ef"
      },
      "execution_count": null,
      "outputs": [
        {
          "output_type": "stream",
          "name": "stdout",
          "text": [
            "True\n",
            "<class 'bool'>\n"
          ]
        }
      ]
    },
    {
      "cell_type": "markdown",
      "source": [
        "intと表示されました。これは整数を表しています。他の数字も入れてみて確認します。"
      ],
      "metadata": {
        "id": "RjmrXxbzN5EM"
      }
    },
    {
      "cell_type": "code",
      "source": [
        "a = 2\n",
        "b = 3"
      ],
      "metadata": {
        "id": "5SXjMfHRN1hW"
      },
      "execution_count": null,
      "outputs": []
    },
    {
      "cell_type": "markdown",
      "source": [
        "こちらのaとbを利用して比較演算子を使ってみます。"
      ],
      "metadata": {
        "id": "jNomaJ3JOFq2"
      }
    },
    {
      "cell_type": "code",
      "source": [
        "#aとbは同じか？\n",
        "a == b"
      ],
      "metadata": {
        "id": "H3Llng6LOErk",
        "colab": {
          "base_uri": "https://localhost:8080/"
        },
        "outputId": "a1d976e0-2207-4b9e-9063-9a5a08b874e7"
      },
      "execution_count": null,
      "outputs": [
        {
          "output_type": "execute_result",
          "data": {
            "text/plain": [
              "False"
            ]
          },
          "metadata": {},
          "execution_count": 24
        }
      ]
    },
    {
      "cell_type": "code",
      "source": [
        "#aとbは違うか？\n",
        "a != b"
      ],
      "metadata": {
        "colab": {
          "base_uri": "https://localhost:8080/"
        },
        "id": "wuZgsXllc4Kj",
        "outputId": "1a97bec3-eda3-4258-ec41-3db7d70d2075"
      },
      "execution_count": null,
      "outputs": [
        {
          "output_type": "execute_result",
          "data": {
            "text/plain": [
              "True"
            ]
          },
          "metadata": {},
          "execution_count": 25
        }
      ]
    },
    {
      "cell_type": "code",
      "source": [
        "#aはbより大きいか\n",
        "a > b"
      ],
      "metadata": {
        "colab": {
          "base_uri": "https://localhost:8080/"
        },
        "id": "LKTqNuZQc6Y_",
        "outputId": "507e4816-974f-48e8-d101-971cf9196995"
      },
      "execution_count": null,
      "outputs": [
        {
          "output_type": "execute_result",
          "data": {
            "text/plain": [
              "False"
            ]
          },
          "metadata": {},
          "execution_count": 26
        }
      ]
    },
    {
      "cell_type": "code",
      "source": [
        "#aはb以上か\n",
        "a >= b"
      ],
      "metadata": {
        "colab": {
          "base_uri": "https://localhost:8080/"
        },
        "id": "giRLs1Cnc965",
        "outputId": "61da4dae-c033-4baa-ee4b-5a20aa54b7e8"
      },
      "execution_count": null,
      "outputs": [
        {
          "output_type": "execute_result",
          "data": {
            "text/plain": [
              "False"
            ]
          },
          "metadata": {},
          "execution_count": 27
        }
      ]
    },
    {
      "cell_type": "code",
      "source": [
        "#aはbより小さいか\n",
        "a < b"
      ],
      "metadata": {
        "colab": {
          "base_uri": "https://localhost:8080/"
        },
        "id": "FZy7YYkSWgfW",
        "outputId": "b277f210-4e3d-4758-ad0a-5c0aadf20137"
      },
      "execution_count": null,
      "outputs": [
        {
          "output_type": "execute_result",
          "data": {
            "text/plain": [
              "True"
            ]
          },
          "metadata": {},
          "execution_count": 28
        }
      ]
    },
    {
      "cell_type": "code",
      "source": [
        "#aはb以下か\n",
        "a <= b"
      ],
      "metadata": {
        "colab": {
          "base_uri": "https://localhost:8080/"
        },
        "id": "dmCM9kaEdBpI",
        "outputId": "365c0e7c-b7e7-404d-80f2-7db21478cd73"
      },
      "execution_count": null,
      "outputs": [
        {
          "output_type": "execute_result",
          "data": {
            "text/plain": [
              "True"
            ]
          },
          "metadata": {},
          "execution_count": 29
        }
      ]
    },
    {
      "cell_type": "markdown",
      "source": [
        "## 条件分岐\n",
        "上記のブーリアンと組み合わせてif文を利用することで条件分岐ができます。"
      ],
      "metadata": {
        "id": "PHl9PvvZSqrB"
      }
    },
    {
      "cell_type": "code",
      "source": [
        "if a == b:\n",
        "  print(\"same\")\n",
        "elif a != b:\n",
        "  print(\"chigau\")"
      ],
      "metadata": {
        "colab": {
          "base_uri": "https://localhost:8080/"
        },
        "id": "tEhpOJFOdFBx",
        "outputId": "6ef21d9c-3290-4a91-a01f-6a3586a8bc08"
      },
      "execution_count": null,
      "outputs": [
        {
          "output_type": "stream",
          "name": "stdout",
          "text": [
            "chigau\n"
          ]
        }
      ]
    },
    {
      "cell_type": "code",
      "source": [
        "if a > b:\n",
        "  print(\"a is bigger\")\n",
        "elif a < b:\n",
        "  print(\"b is bigger\")"
      ],
      "metadata": {
        "colab": {
          "base_uri": "https://localhost:8080/"
        },
        "id": "-Z6zmYNWdL0J",
        "outputId": "a0c72ee1-c321-4632-9f27-0a1d9e657ab8"
      },
      "execution_count": null,
      "outputs": [
        {
          "output_type": "stream",
          "name": "stdout",
          "text": [
            "b is bigger\n"
          ]
        }
      ]
    },
    {
      "cell_type": "markdown",
      "source": [
        "このようにブーリアンと組み合わせて条件分岐で処理ができました。"
      ],
      "metadata": {
        "id": "9pHqxpoGTNN5"
      }
    }
  ]
}