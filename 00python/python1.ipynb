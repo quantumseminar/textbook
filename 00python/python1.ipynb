{
  "nbformat": 4,
  "nbformat_minor": 0,
  "metadata": {
    "colab": {
      "provenance": [],
      "include_colab_link": true
    },
    "kernelspec": {
      "name": "python3",
      "display_name": "Python 3"
    },
    "language_info": {
      "name": "python"
    }
  },
  "cells": [
    {
      "cell_type": "markdown",
      "metadata": {
        "id": "view-in-github",
        "colab_type": "text"
      },
      "source": [
        "<a href=\"https://colab.research.google.com/github/quantumseminar/textbook/blob/main/00python/python1.ipynb\" target=\"_parent\"><img src=\"https://colab.research.google.com/assets/colab-badge.svg\" alt=\"Open In Colab\"/></a>"
      ]
    },
    {
      "cell_type": "markdown",
      "source": [
        "## 変数\n",
        "Pythonの変数は、データを格納するための箱です。変数はプログラム内でデータを保存し、操作するために使用されます。\n",
        "\n",
        "\n",
        "1. 変数の宣言:\n",
        "   名前を決めて、=で値や文字列を割り当てると変数を宣言できます。Pythonでは変数のデータ型は自動的に決定されます。例えば、下記の`my_variable`は整数型(int)として解釈されます。\n",
        "\n",
        "   ```python\n",
        "   a = 42\n",
        "   ```\n",
        "\n",
        "2. 変数の再代入:\n",
        "   変数には新しい値を割り当てることができます。変数の内容はいつでも変更できます。\n",
        "\n",
        "   ```python\n",
        "   a = \"Quantum!\"\n",
        "   ```\n",
        "\n",
        "3. 変数名の規則:\n",
        "   変数名はアルファベット、数字、アンダースコア(_)からなり、数字で始まることはできません。また、Pythonの予約語（キーワード）を変数名として使用することはできません。\n",
        "\n",
        "早速試してみます。最初に変数に42を入れて表示してみます。括弧内の変数の中身を表示するprint()を利用します。"
      ],
      "metadata": {
        "id": "RvaqYb2JFhUX"
      }
    },
    {
      "cell_type": "code",
      "execution_count": null,
      "metadata": {
        "colab": {
          "base_uri": "https://localhost:8080/"
        },
        "id": "Z0uhmJSMzMxX",
        "outputId": "1dc70b07-afe7-4e0f-95f2-0fd308992ff0"
      },
      "outputs": [
        {
          "output_type": "stream",
          "name": "stdout",
          "text": [
            "0\n"
          ]
        }
      ],
      "source": [
        "a = 0\n",
        "print(a)"
      ]
    },
    {
      "cell_type": "markdown",
      "source": [
        "## 文字列\n",
        "\n",
        "次に変数aの中身を入れ替えてみます。適当な文字列を入れて入れ替えてみます。文字列を入力するには\"\"で囲みます。\n"
      ],
      "metadata": {
        "id": "mzKaw2qsHNtO"
      }
    },
    {
      "cell_type": "code",
      "source": [
        "a = \"Quantum\"\n",
        "print(a)"
      ],
      "metadata": {
        "colab": {
          "base_uri": "https://localhost:8080/"
        },
        "id": "ryC7dEEQHJlZ",
        "outputId": "bb74bf46-ae1e-41c5-e799-b7a3619aa270"
      },
      "execution_count": null,
      "outputs": [
        {
          "output_type": "stream",
          "name": "stdout",
          "text": [
            "Quantum\n"
          ]
        }
      ]
    },
    {
      "cell_type": "markdown",
      "source": [
        "## 数値計算\n",
        "おさらいです。変数に数値を入れてみます。"
      ],
      "metadata": {
        "id": "n4lcPljHIi5-"
      }
    },
    {
      "cell_type": "code",
      "source": [
        "a = 1"
      ],
      "metadata": {
        "id": "Lbj2z4c7HX4L"
      },
      "execution_count": null,
      "outputs": []
    },
    {
      "cell_type": "markdown",
      "source": [
        "次にこの変数の型を確認します。type()で囲みます。"
      ],
      "metadata": {
        "id": "W81RuBD6NT5s"
      }
    },
    {
      "cell_type": "code",
      "source": [
        "type(a)"
      ],
      "metadata": {
        "colab": {
          "base_uri": "https://localhost:8080/"
        },
        "id": "JtlG_Gm_NRh_",
        "outputId": "526fda29-8a2a-4d97-e916-5a98142e66e9"
      },
      "execution_count": null,
      "outputs": [
        {
          "output_type": "execute_result",
          "data": {
            "text/plain": [
              "int"
            ]
          },
          "metadata": {},
          "execution_count": 9
        }
      ]
    },
    {
      "cell_type": "markdown",
      "source": [
        "intと表示されました。これは整数を表しています。他の数字も入れてみて確認します。"
      ],
      "metadata": {
        "id": "RjmrXxbzN5EM"
      }
    },
    {
      "cell_type": "code",
      "source": [
        "a = 3.14\n",
        "type(a)"
      ],
      "metadata": {
        "colab": {
          "base_uri": "https://localhost:8080/"
        },
        "id": "5SXjMfHRN1hW",
        "outputId": "5a4c0b1e-ceba-498e-f2df-26a2ba93dfc0"
      },
      "execution_count": null,
      "outputs": [
        {
          "output_type": "execute_result",
          "data": {
            "text/plain": [
              "float"
            ]
          },
          "metadata": {},
          "execution_count": 10
        }
      ]
    },
    {
      "cell_type": "markdown",
      "source": [
        "floatと表示されました。これは小数を表します。数値を利用してさまざまな計算ができます。\n",
        "\n",
        "\"#\"を前につけるとコメントと言ってプログラムは実行せずにメモを取ることができます。"
      ],
      "metadata": {
        "id": "jNomaJ3JOFq2"
      }
    },
    {
      "cell_type": "code",
      "source": [
        "#aとbを決める\n",
        "a = 2\n",
        "b = 3"
      ],
      "metadata": {
        "id": "H3Llng6LOErk"
      },
      "execution_count": null,
      "outputs": []
    },
    {
      "cell_type": "code",
      "source": [
        "#足し算\n",
        "print(a + b)"
      ],
      "metadata": {
        "colab": {
          "base_uri": "https://localhost:8080/"
        },
        "id": "wuZgsXllc4Kj",
        "outputId": "4da293bb-ad2a-4621-e465-d9996afe9584"
      },
      "execution_count": null,
      "outputs": [
        {
          "output_type": "stream",
          "name": "stdout",
          "text": [
            "5\n"
          ]
        }
      ]
    },
    {
      "cell_type": "code",
      "source": [
        "#引き算\n",
        "print(b - a)"
      ],
      "metadata": {
        "colab": {
          "base_uri": "https://localhost:8080/"
        },
        "id": "LKTqNuZQc6Y_",
        "outputId": "20102b78-10a3-4df4-a90e-53dc42728408"
      },
      "execution_count": null,
      "outputs": [
        {
          "output_type": "stream",
          "name": "stdout",
          "text": [
            "1\n"
          ]
        }
      ]
    },
    {
      "cell_type": "code",
      "source": [
        "#かけ算\n",
        "print(a*b)"
      ],
      "metadata": {
        "colab": {
          "base_uri": "https://localhost:8080/"
        },
        "id": "giRLs1Cnc965",
        "outputId": "28912697-8992-459f-d6e2-4d0b8db801ba"
      },
      "execution_count": null,
      "outputs": [
        {
          "output_type": "stream",
          "name": "stdout",
          "text": [
            "6\n"
          ]
        }
      ]
    },
    {
      "cell_type": "code",
      "source": [
        "#割り算\n",
        "print(b/a)"
      ],
      "metadata": {
        "colab": {
          "base_uri": "https://localhost:8080/"
        },
        "id": "dmCM9kaEdBpI",
        "outputId": "c48ca476-83fa-47a6-8519-0a3e074468e6"
      },
      "execution_count": null,
      "outputs": [
        {
          "output_type": "stream",
          "name": "stdout",
          "text": [
            "1.5\n"
          ]
        }
      ]
    },
    {
      "cell_type": "code",
      "source": [
        "#割り算の商\n",
        "print(b//a)"
      ],
      "metadata": {
        "colab": {
          "base_uri": "https://localhost:8080/"
        },
        "id": "tEhpOJFOdFBx",
        "outputId": "12f65077-048d-4ad5-c318-e613cf1d1920"
      },
      "execution_count": null,
      "outputs": [
        {
          "output_type": "stream",
          "name": "stdout",
          "text": [
            "1\n"
          ]
        }
      ]
    },
    {
      "cell_type": "code",
      "source": [
        "#割り算の余り\n",
        "print(b%a)"
      ],
      "metadata": {
        "colab": {
          "base_uri": "https://localhost:8080/"
        },
        "id": "-Z6zmYNWdL0J",
        "outputId": "96f1c608-4aad-4472-f17f-85327386a6e3"
      },
      "execution_count": null,
      "outputs": [
        {
          "output_type": "stream",
          "name": "stdout",
          "text": [
            "1\n"
          ]
        }
      ]
    },
    {
      "cell_type": "code",
      "source": [
        "#aのb乗\n",
        "print(a**b)"
      ],
      "metadata": {
        "colab": {
          "base_uri": "https://localhost:8080/"
        },
        "id": "adO0tcbBdPX0",
        "outputId": "3743c2e1-2ce2-4d9c-921d-fe6489a23728"
      },
      "execution_count": null,
      "outputs": [
        {
          "output_type": "stream",
          "name": "stdout",
          "text": [
            "8\n"
          ]
        }
      ]
    },
    {
      "cell_type": "markdown",
      "source": [
        "## 変数を利用した計算\n",
        "最後に変数を利用して、買い物の予算を計算してみます。\n",
        "\n",
        "80円の卵を5こと、100円のニンジンを3本買った合計を計算してみます。"
      ],
      "metadata": {
        "id": "Ui8OoGRqdpgb"
      }
    },
    {
      "cell_type": "code",
      "source": [
        "price = 80 * 5 + 100 * 3\n",
        "print(price)"
      ],
      "metadata": {
        "colab": {
          "base_uri": "https://localhost:8080/"
        },
        "id": "mLv9Dc2wdUmZ",
        "outputId": "2878b5ec-86f9-496b-9067-2d41d4aa45ad"
      },
      "execution_count": null,
      "outputs": [
        {
          "output_type": "stream",
          "name": "stdout",
          "text": [
            "700\n"
          ]
        }
      ]
    }
  ]
}