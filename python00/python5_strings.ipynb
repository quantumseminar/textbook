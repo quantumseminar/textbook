{
  "nbformat": 4,
  "nbformat_minor": 0,
  "metadata": {
    "colab": {
      "provenance": [],
      "include_colab_link": true
    },
    "kernelspec": {
      "name": "python3",
      "display_name": "Python 3"
    },
    "language_info": {
      "name": "python"
    }
  },
  "cells": [
    {
      "cell_type": "markdown",
      "metadata": {
        "id": "view-in-github",
        "colab_type": "text"
      },
      "source": [
        "<a href=\"https://colab.research.google.com/github/quantumseminar/textbook/blob/main/python00/python5_strings.ipynb\" target=\"_parent\"><img src=\"https://colab.research.google.com/assets/colab-badge.svg\" alt=\"Open In Colab\"/></a>"
      ]
    },
    {
      "cell_type": "markdown",
      "source": [
        "## 文字列\n",
        "以前数値を学びましたが、文字列も同じようにデータとして処理することができます。\n"
      ],
      "metadata": {
        "id": "RvaqYb2JFhUX"
      }
    },
    {
      "cell_type": "code",
      "execution_count": null,
      "metadata": {
        "id": "Z0uhmJSMzMxX",
        "colab": {
          "base_uri": "https://localhost:8080/"
        },
        "outputId": "a923295d-9723-4499-b453-09d30bfa6930"
      },
      "outputs": [
        {
          "output_type": "stream",
          "name": "stdout",
          "text": [
            "This is a pen\n"
          ]
        }
      ],
      "source": [
        "mystr = \"This is a pen\"\n",
        "print(mystr)"
      ]
    },
    {
      "cell_type": "markdown",
      "source": [
        "文字列のn番目の文字を取り出すことができます。下記は最初の文字Tを取り出します。"
      ],
      "metadata": {
        "id": "mzKaw2qsHNtO"
      }
    },
    {
      "cell_type": "code",
      "source": [
        "print(mystr[0])"
      ],
      "metadata": {
        "colab": {
          "base_uri": "https://localhost:8080/"
        },
        "id": "ryC7dEEQHJlZ",
        "outputId": "1e8f95f0-b24d-4fdf-fdf7-53df2c8e5d5f"
      },
      "execution_count": null,
      "outputs": [
        {
          "output_type": "stream",
          "name": "stdout",
          "text": [
            "T\n"
          ]
        }
      ]
    },
    {
      "cell_type": "markdown",
      "source": [
        "文字を切り出すこともできます。"
      ],
      "metadata": {
        "id": "n4lcPljHIi5-"
      }
    },
    {
      "cell_type": "code",
      "source": [
        "print(mystr[0:3])"
      ],
      "metadata": {
        "id": "Lbj2z4c7HX4L",
        "colab": {
          "base_uri": "https://localhost:8080/"
        },
        "outputId": "6b9ef45c-1b04-4ee7-be62-c25306df90bc"
      },
      "execution_count": null,
      "outputs": [
        {
          "output_type": "stream",
          "name": "stdout",
          "text": [
            "Thi\n"
          ]
        }
      ]
    },
    {
      "cell_type": "markdown",
      "source": [
        "文字列の長さを測ります。空白も1文字としてカウントされます。"
      ],
      "metadata": {
        "id": "W81RuBD6NT5s"
      }
    },
    {
      "cell_type": "code",
      "source": [
        "len(mystr)"
      ],
      "metadata": {
        "colab": {
          "base_uri": "https://localhost:8080/"
        },
        "id": "JtlG_Gm_NRh_",
        "outputId": "e9f1a152-8ea0-461a-8c76-df3da5bc56ef"
      },
      "execution_count": null,
      "outputs": [
        {
          "output_type": "execute_result",
          "data": {
            "text/plain": [
              "13"
            ]
          },
          "metadata": {},
          "execution_count": 5
        }
      ]
    },
    {
      "cell_type": "markdown",
      "source": [
        "## 大文字小文字\n",
        ".upper()を利用すると全て大文字にできます。"
      ],
      "metadata": {
        "id": "RjmrXxbzN5EM"
      }
    },
    {
      "cell_type": "code",
      "source": [
        "print(mystr.upper())"
      ],
      "metadata": {
        "id": "5SXjMfHRN1hW",
        "colab": {
          "base_uri": "https://localhost:8080/"
        },
        "outputId": "4f2d2ead-d724-4561-c217-49c2b21897ec"
      },
      "execution_count": null,
      "outputs": [
        {
          "output_type": "stream",
          "name": "stdout",
          "text": [
            "THIS IS A PEN\n"
          ]
        }
      ]
    },
    {
      "cell_type": "markdown",
      "source": [
        ".lower()を利用すると全て小文字にできます。"
      ],
      "metadata": {
        "id": "jNomaJ3JOFq2"
      }
    },
    {
      "cell_type": "code",
      "source": [
        "print(mystr.lower())"
      ],
      "metadata": {
        "id": "H3Llng6LOErk",
        "colab": {
          "base_uri": "https://localhost:8080/"
        },
        "outputId": "0e0de0a2-aff3-4df0-9112-4523478bf8f5"
      },
      "execution_count": null,
      "outputs": [
        {
          "output_type": "stream",
          "name": "stdout",
          "text": [
            "this is a pen\n"
          ]
        }
      ]
    },
    {
      "cell_type": "markdown",
      "source": [
        "##文字列の分割や連結\n",
        "\n",
        ".split()を利用すると文を分割（デフォルトは空白スペースで分割）してリストにします。"
      ],
      "metadata": {
        "id": "wHFZfgUyE8Vk"
      }
    },
    {
      "cell_type": "code",
      "source": [
        "print(mystr.split())"
      ],
      "metadata": {
        "colab": {
          "base_uri": "https://localhost:8080/"
        },
        "id": "EFAGIDX6E43W",
        "outputId": "44e494a6-cf72-4a7f-dec9-95e724902d6d"
      },
      "execution_count": null,
      "outputs": [
        {
          "output_type": "stream",
          "name": "stdout",
          "text": [
            "['This', 'is', 'a', 'pen']\n"
          ]
        }
      ]
    },
    {
      "cell_type": "markdown",
      "source": [
        "文字列を書き換えて分割してみます。"
      ],
      "metadata": {
        "id": "OygaqzRoFJuI"
      }
    },
    {
      "cell_type": "code",
      "source": [
        "mystr2 = \"This-is-a-pen\"\n",
        "print(mystr2)"
      ],
      "metadata": {
        "colab": {
          "base_uri": "https://localhost:8080/"
        },
        "id": "L2Lo_3y8FCwI",
        "outputId": "86428c41-9e63-4bd0-ca33-c491762bbf59"
      },
      "execution_count": null,
      "outputs": [
        {
          "output_type": "stream",
          "name": "stdout",
          "text": [
            "This-is-a-pen\n"
          ]
        }
      ]
    },
    {
      "cell_type": "code",
      "source": [
        "print(mystr2.split())"
      ],
      "metadata": {
        "colab": {
          "base_uri": "https://localhost:8080/"
        },
        "id": "6LvCJOAbFPlO",
        "outputId": "a8bf8608-febf-42b0-9f8c-7ad6276119f9"
      },
      "execution_count": null,
      "outputs": [
        {
          "output_type": "stream",
          "name": "stdout",
          "text": [
            "['This-is-a-pen']\n"
          ]
        }
      ]
    },
    {
      "cell_type": "markdown",
      "source": [
        "スペースがなかったので分割されませんでした。\"-\"で分割するように指定ができます。"
      ],
      "metadata": {
        "id": "NqpyT8oJFV9H"
      }
    },
    {
      "cell_type": "code",
      "source": [
        "print(mystr2.split(\"-\"))"
      ],
      "metadata": {
        "colab": {
          "base_uri": "https://localhost:8080/"
        },
        "id": "Fa-j-G4DFRzE",
        "outputId": "b50f0107-8f82-4fa6-9389-9df772ccbb2f"
      },
      "execution_count": null,
      "outputs": [
        {
          "output_type": "stream",
          "name": "stdout",
          "text": [
            "['This', 'is', 'a', 'pen']\n"
          ]
        }
      ]
    },
    {
      "cell_type": "markdown",
      "source": [
        "リストの文字列を繋げる際には、.join()を利用します。"
      ],
      "metadata": {
        "id": "xZKBgUu4Fh89"
      }
    },
    {
      "cell_type": "code",
      "source": [
        "#一旦split\n",
        "mystr3 = mystr.split()\n",
        "print(mystr3)\n",
        "\n",
        "#joinで繋げる\n",
        "print('&'.join(mystr3))"
      ],
      "metadata": {
        "colab": {
          "base_uri": "https://localhost:8080/"
        },
        "id": "vbpRVYGKFdb_",
        "outputId": "2340c9e9-7b55-4933-f008-434a8a834a3e"
      },
      "execution_count": null,
      "outputs": [
        {
          "output_type": "stream",
          "name": "stdout",
          "text": [
            "['This', 'is', 'a', 'pen']\n",
            "This&is&a&pen\n"
          ]
        }
      ]
    },
    {
      "cell_type": "markdown",
      "source": [
        "+で連結できます。"
      ],
      "metadata": {
        "id": "h-mTR15fF6iu"
      }
    },
    {
      "cell_type": "code",
      "source": [
        "a = \"This is \"\n",
        "b = \"an orange\"\n",
        "\n",
        "print(a + b)"
      ],
      "metadata": {
        "colab": {
          "base_uri": "https://localhost:8080/"
        },
        "id": "zolWjvOQFwcQ",
        "outputId": "85623965-c56e-4b64-92fd-29d7316b56e0"
      },
      "execution_count": null,
      "outputs": [
        {
          "output_type": "stream",
          "name": "stdout",
          "text": [
            "This is an orange\n"
          ]
        }
      ]
    }
  ]
}