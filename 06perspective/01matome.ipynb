{
  "nbformat": 4,
  "nbformat_minor": 0,
  "metadata": {
    "colab": {
      "provenance": [],
      "gpuType": "T4",
      "authorship_tag": "ABX9TyOzVOhJvD/qV2kp6COY2EWk",
      "include_colab_link": true
    },
    "kernelspec": {
      "name": "python3",
      "display_name": "Python 3"
    },
    "language_info": {
      "name": "python"
    },
    "accelerator": "GPU"
  },
  "cells": [
    {
      "cell_type": "markdown",
      "metadata": {
        "id": "view-in-github",
        "colab_type": "text"
      },
      "source": [
        "<a href=\"https://colab.research.google.com/github/quantumseminar/textbook/blob/main/06perspective/01matome.ipynb\" target=\"_parent\"><img src=\"https://colab.research.google.com/assets/colab-badge.svg\" alt=\"Open In Colab\"/></a>"
      ]
    },
    {
      "cell_type": "markdown",
      "source": [
        "# 量子コンピュータと機械学習の展望\n",
        "\n",
        "2024年以降は量子コンピュータも機械学習も大きく動向が変わっていて、それらを追っていく必要がある。\n",
        "\n",
        "- 量子コンピュータはブレイクスルーが起きてソフトウェアが大きく変わる。\n",
        "- 機械学習はしばらく生成AI/LLMの流れが強化され、ますます大きなモデルやMoEの派生が出る。また、ローカルとクラウドの使い分けが重要になる。\n"
      ],
      "metadata": {
        "id": "HWqY4emajU4K"
      }
    },
    {
      "cell_type": "markdown",
      "source": [
        "## 量子コンピュータのソフトウェア２種類\n",
        "\n",
        "量子コンピュータには２種類のソフトウェアがある。\n",
        "\n",
        "- NISQ向け\n",
        "- FTQC向け\n",
        "\n",
        "NISQはエラーありの量子コンピュータでハイブリッド利用が主体。ソフトウェアもハイブリッド向けに直されている。FTQCはエラーが少ない量子コンピュータ向け。ソフトウェアもそれ専用にされている。\n",
        "\n",
        "量子アニーリングはアルゴリズムの一種でNISQ向けのQAOAや、専用機向けの量子アニーリング、FTQC向けはまだ名前がついてない。\n",
        "\n",
        "NISQ向けはこれまで散々行われてきたがあまり効果がなかったので（よほどNISQで革命が起きない限りは）、今後はFTQC向けのソフトウェアに切り替わる。"
      ],
      "metadata": {
        "id": "ceml_NFkbyHK"
      }
    },
    {
      "cell_type": "markdown",
      "source": [
        "## FTQC向け量子コンピュータソフトウェアの特徴\n",
        "\n",
        "NISQはハイブリッド方式でちょっと業界としては寄り道をした感じ。確かに幾らかの知見はたまったがFTQCに比べると物足りない感じはある。なので、NISQハイブリッド計算を学ぶかどうかは今後の展開次第で全く不要になる可能性もある。\n",
        "\n",
        "違い\n",
        "- NISQはすぐに測定をしてしまうので、あまり複雑な位相の計算ができない。位相はブロッホ球での赤道付近の円の角度。\n",
        "- FTQCは長い計算が想定されるので、より深い位相の計算などを活用できる可能性がある。"
      ],
      "metadata": {
        "id": "KTHJZkg9djGI"
      }
    },
    {
      "cell_type": "markdown",
      "source": [
        "## 今後の量子コンピュータの勉強の仕方\n",
        "\n",
        "興味がある分野を中心に学ぶ。量子コンピュータを満遍なく学びたい場合には、\n",
        "\n",
        "- 基礎を学ぶ\n",
        "- 位相推定や振幅増幅を学ぶ\n",
        "- 余裕があればNISQハイブリッド計算を学ぶ。(VQEやQAOA)\n",
        "- その他はトレンド次第（予想不可）"
      ],
      "metadata": {
        "id": "67uJBJl8ksYI"
      }
    },
    {
      "cell_type": "markdown",
      "source": [
        "## 生成AIとそれ以前のディープラーニング\n",
        "\n",
        "最新の生成AIと昔のディープラーニングは内部の構造がだいぶ違う。最近のはTransformer構造といって、特殊な構造をしている。学習をする場合には、まずはTransformerを学習してから以前のモデルを学習するのがよし。\n",
        "\n",
        "- Transformer 高性能だが重たい\n",
        "- 以前の 性能そこそこで軽い\n",
        "\n",
        "計算能力が高まっている現在、Transformerの人気が圧倒的に出ている。 人気のGPTモデルや最近の拡散モデルでもこのTransformerモデルが採用されている。"
      ],
      "metadata": {
        "id": "rztlPI9slcjL"
      }
    },
    {
      "cell_type": "markdown",
      "source": [
        "## 学習に必要な環境\n",
        "\n",
        "機械学習・AI業界は急激な発展に伴って、計算資源をものすごい消費するようになってきている。量子コンピュータ業界を含めて計算資源をどうするかは大きな課題となっている。\n",
        "\n",
        "- 高性能なGPUを利用する\n",
        "- クラウド環境でGPUや量子コンピュータを借りる\n",
        "\n",
        "量子コンピュータは現在クラウドでレンタルをするのが一般的。プロ向けのaws/google cloud/microsoft azure quantumなどに契約する以外に、IBMなどのサービスを利用するのが普通。\n",
        "\n",
        "通常初学者はIBMなどを利用するのが利用しやすい。\n",
        "\n",
        "機械学習や量子コンピュータのシミュレーションでGPUを多く利用する。これらはクラウドで借りるのもものすごい高い。\n",
        "\n",
        "- Google Colabで有料版を借りる。\n",
        "- クラウドサービスで借りる\n",
        "- 個人で買う\n",
        "\n",
        "Google Colabでは有料枠があり簡単にGPUが利用できる。\n",
        "クラウドサービスで借りる場合には安いところを探して決済をする。\n",
        "個人で買ってしまえばあまり問題はないが、管理が大変＆高性能な機械学習が出たら性能が足りなくなることも。\n",
        "\n",
        "RTX3060-4090 (2024年現在)あたりのゲーミングPCが重要に。\n",
        "その他業務用のマシンもあるが、数百万円するのでさらに高額に。"
      ],
      "metadata": {
        "id": "tYU1dThvyelZ"
      }
    }
  ]
}